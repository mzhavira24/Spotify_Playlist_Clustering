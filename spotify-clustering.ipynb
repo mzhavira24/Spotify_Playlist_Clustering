{
 "cells": [
  {
   "cell_type": "code",
   "execution_count": 2,
   "metadata": {},
   "outputs": [],
   "source": [
    "import streamlit as st\n",
    "import pandas as pd\n",
    "import numpy as np\n",
    "from sklearn.cluster import KMeans\n",
    "from sklearn.decomposition import PCA\n",
    "import plotly.express as px\n",
    "import base64\n",
    "from requests import post, get\n",
    "import json\n",
    "import csv\n",
    "from sklearn import preprocessing"
   ]
  },
  {
   "cell_type": "code",
   "execution_count": 3,
   "metadata": {},
   "outputs": [],
   "source": [
    "client_id = '8b2dd0493c5246f59dc7dfc1739b4e9c' ##client_id\n",
    "client_secret = 'c52a997d61a747f184db2e96bbb1fc75' ##client_secret\n",
    "playlistId = '1dtCMTYzAOzwKXqklxPJNS'\n",
    "\n",
    "## 37i9dQZF1DXbrUpGvoi3TS - 1(similar sad songs)\n",
    "## 1dtCMTYzAOzwKXqklxPJNS - 2(old songs, rock, rap)\n",
    "## 0IN7IWKmIfwlEysGyWUuRg - 3(mix of modern electronic, pop, and rock)\n",
    "\n",
    "dataset = []\n",
    "dataset2 = []\n",
    "dataset3 = []"
   ]
  },
  {
   "cell_type": "code",
   "execution_count": 4,
   "metadata": {},
   "outputs": [],
   "source": [
    "def getToken():\n",
    "    # gabungkan client_id dan client_secret\n",
    "    auth_string = client_id + ':' + client_secret\n",
    "\n",
    "    # encode ke base64\n",
    "    auth_b64 = base64.b64encode(auth_string.encode('utf-8'))\n",
    "\n",
    "    # url untuk mengambil token\n",
    "    url = 'https://accounts.spotify.com/api/token'\n",
    "\n",
    "    # header untuk mengambil token - sesuai dengan guide dari spotify\n",
    "    headers = {\n",
    "        'Authorization': 'Basic ' + auth_b64.decode('utf-8'),\n",
    "        'Content-Type': 'application/x-www-form-urlencoded'\n",
    "    }\n",
    "\n",
    "    # data untuk mengambil token - sesuai dengan guide dari spotify\n",
    "    data = {'grant_type': 'client_credentials'}\n",
    "\n",
    "    # kirim request POST ke spotify\n",
    "    result = post(url, headers=headers, data=data)\n",
    "\n",
    "    # parse response ke json\n",
    "    json_result = json.loads(result.content)\n",
    "    token = json_result['access_token']\n",
    "\n",
    "    # ambil token untuk akses API\n",
    "    return token\n",
    "\n",
    "## panggil fungsi getToken() dibawah ini"
   ]
  },
  {
   "cell_type": "code",
   "execution_count": 5,
   "metadata": {},
   "outputs": [],
   "source": [
    "## pengambilan token untuk otorisasi API\n",
    "def getAuthHeader(token):\n",
    "    return {'Authorization': 'Bearer ' + token}"
   ]
  },
  {
   "cell_type": "code",
   "execution_count": 6,
   "metadata": {},
   "outputs": [],
   "source": [
    "## pengambilan audio features dari track (lagu)\n",
    "def getAudioFeatures(token, trackId):\n",
    "    # endpoint untuk akses playlist\n",
    "    url = f'https://api.spotify.com/v1/audio-features/{trackId}'\n",
    "    # ambil token untuk otorisasi, gunakan sebagai header\n",
    "    headers = getAuthHeader(token)\n",
    "    result = get(url, headers=headers)  # kirim request GET ke spotify\n",
    "    json_result = json.loads(result.content)  # parse response ke json\n",
    "\n",
    "    # ambil data yang diperlukan dari response\n",
    "    audio_features_temp = [\n",
    "        json_result['danceability'],\n",
    "        json_result['energy'],\n",
    "        json_result['key'],\n",
    "        json_result['loudness'],\n",
    "        json_result['mode'],\n",
    "        json_result['speechiness'],\n",
    "        json_result['acousticness'],\n",
    "        json_result['instrumentalness'],\n",
    "        json_result['liveness'],\n",
    "        json_result['valence'],\n",
    "        json_result['tempo'],\n",
    "    ]\n",
    "    dataset2.append(audio_features_temp)"
   ]
  },
  {
   "cell_type": "code",
   "execution_count": 7,
   "metadata": {},
   "outputs": [],
   "source": [
    "def getPlaylistItems(token, playlistId):\n",
    "    # endpoint untuk akses playlist\n",
    "    url = f'https://api.spotify.com/v1/playlists/{playlistId}/tracks'\n",
    "    limit = '&limit=100'  # batas maksimal track yang diambil\n",
    "    market = '?market=ID'  # negara yang tempat aplikasi diakses\n",
    "    # format data dari track yang diambil\n",
    "    fields = '&fields=items%28track%28id%2Cname%2Cartists%2Cpopularity%2C+duration_ms%2C+album%28release_date%29%29%29'\n",
    "    url = url+market+fields+limit  # gabungkan semua parameter\n",
    "    # ambil token untuk otorisasi, gunakan sebagai header\n",
    "    headers = getAuthHeader(token)\n",
    "    result = get(url, headers=headers)  # kirim request GET ke spotify\n",
    "    json_result = json.loads(result.content)  # parse response ke json\n",
    "    # print(json_result)\n",
    "    # ambil data yang diperlukan dari response\n",
    "    for i in range(len(json_result['items'])):\n",
    "        playlist_items_temp = []\n",
    "        playlist_items_temp.append(json_result['items'][i]['track']['id'])\n",
    "        playlist_items_temp.append(\n",
    "            json_result['items'][i]['track']['name'].encode('utf-8'))\n",
    "        playlist_items_temp.append(\n",
    "            json_result['items'][i]['track']['artists'][0]['name'].encode('utf-8'))\n",
    "        playlist_items_temp.append(\n",
    "            json_result['items'][i]['track']['popularity'])\n",
    "        playlist_items_temp.append(\n",
    "            json_result['items'][i]['track']['duration_ms'])\n",
    "        playlist_items_temp.append(\n",
    "            int(json_result['items'][i]['track']['album']['release_date'][0:4]))\n",
    "        dataset.append(playlist_items_temp)"
   ]
  },
  {
   "cell_type": "code",
   "execution_count": 8,
   "metadata": {},
   "outputs": [],
   "source": [
    "for i in range(len(dataset)):\n",
    "        getAudioFeatures(token, dataset[i][0])"
   ]
  },
  {
   "cell_type": "code",
   "execution_count": null,
   "metadata": {},
   "outputs": [
    {
     "ename": "IndentationError",
     "evalue": "unexpected indent (3270688976.py, line 2)",
     "output_type": "error",
     "traceback": [
      "\u001b[1;36m  Cell \u001b[1;32mIn[9], line 2\u001b[1;36m\u001b[0m\n\u001b[1;33m    for i in range(len(dataset)):\u001b[0m\n\u001b[1;37m    ^\u001b[0m\n\u001b[1;31mIndentationError\u001b[0m\u001b[1;31m:\u001b[0m unexpected indent\n"
     ]
    }
   ],
   "source": [
    "# gabungkan dataset dan dataset2\n",
    "    for i in range(len(dataset)):\n",
    "        dataset3.append(dataset[i]+dataset2[i])\n",
    "\n",
    "    print(dataset3)\n",
    "    # convert dataset3 into csv\n",
    "    with open('dataset.csv', 'w', newline='') as file:\n",
    "        writer = csv.writer(file)\n",
    "        writer.writerow([\"id\", \"name\", \"artist\", \"popularity\", \"duration_ms\", \"year\", \"danceability\", \"energy\", \"key\", \"loudness\", \"mode\",\n",
    "                         \"speechiness\", \"acousticness\", \"instrumentalness\", \"liveness\", \"valence\", \"tempo\"])\n",
    "        writer.writerows(dataset3)"
   ]
  },
  {
   "cell_type": "code",
   "execution_count": 10,
   "metadata": {},
   "outputs": [
    {
     "name": "stdout",
     "output_type": "stream",
     "text": [
      "access token : BQBdPnBuOGaFKIvMIubthMoyvNW1CRY6L49-j6exDMhXxngc4l20x1YekwAR8xc39H2iqvQE7C_UC99bsXDQ65qPmOM4ykDxNMVVo3hL0VlHmweJitM\n",
      "[['5R8J6WCnV1E2lDJgVoaA4P', b'Threats', b'Jean Grae', 35, 246293, 2008, 0.677, 0.631, 0, -6.363, 1, 0.0578, 0.0986, 4.59e-06, 0.245, 0.454, 90.12], ['5ex7brQNeKhyh6wjQoMDr0', b\"Queen's Philosophy\", b'Sa-Roc', 10, 193750, 2013, 0.849, 0.572, 7, -10.119, 1, 0.358, 0.0335, 0, 0.109, 0.497, 97.106], ['0t7k99JA9z0KaMw1BoEpk8', b'9th vs. Thought', b'Black Thought', 0, 167741, 2018, 0.751, 0.933, 7, -2.188, 1, 0.294, 0.0255, 0, 0.071, 0.458, 93.032], ['1LM6EReMkAxuDXDF26ekl2', b'Get By', b'Talib Kweli', 52, 227426, 2002, 0.662, 0.928, 2, -4.688, 1, 0.377, 0.00324, 0, 0.17, 0.775, 90.509], ['5DWbvNiVrH2u0Si9e21ZjW', b'We Comin', b'Sa-Roc', 3, 209655, 2015, 0.659, 0.859, 8, -2.767, 1, 0.423, 0.301, 0, 0.715, 0.709, 174.542], ['0AeXtgRernMx6BDInIxtm8', b'Freedom Form Flowing', b'Gift Of Gab', 38, 272860, 2018, 0.751, 0.86, 2, -3.57, 1, 0.287, 0.454, 4.1e-05, 0.0849, 0.655, 162.06], ['5wkW9SLgv1DCO3Ll6WGjNg', b'Hood Supreme', b'Sa-Roc', 11, 216521, 2015, 0.78, 0.729, 1, -9.01, 0, 0.51, 0.106, 0, 0.294, 0.805, 91.948], ['1DaqUrqQOam8bCbzBUdqao', b'Maximum Frequency', b'Sa-Roc', 7, 228000, 2014, 0.746, 0.953, 1, -3.329, 0, 0.288, 0.00292, 0, 0.598, 0.882, 90.12], ['0sztU8yO2eSFM7PCAeKdAT', b'Never Been In Love', b'Talib Kweli', 38, 300653, 2004, 0.757, 0.748, 6, -7.091, 0, 0.253, 0.408, 0, 0.178, 0.559, 96.073], ['4YoLbz1TKv8HQh2lRzpjiA', b'Eye of the Phoenix', b'Sa-Roc', 0, 124450, 2016, 0.817, 0.717, 1, -7.663, 1, 0.297, 0.000695, 3.47e-05, 0.168, 0.589, 91.0], ['1mm2MFkTsYv5Cd0OkfEKKS', b'Ms. Hill', b'Talib Kweli', 0, 224280, 2005, 0.622, 0.671, 8, -8.076, 0, 0.367, 0.0545, 0, 0.573, 0.245, 90.815], ['72gByp7oLONJBOg0YntwTZ', b'End of the World', b'Sa-Roc', 7, 278382, 2015, 0.675, 0.524, 3, -10.372, 1, 0.398, 0.0668, 0, 0.26, 0.341, 84.882], ['1UAhEIfzcm8hp9TXdbMCtz', b'NSFW (Not Safe For Weak Rappers)', b'Sa-Roc', 0, 226956, 2016, 0.653, 0.594, 1, -6.945, 1, 0.466, 0.0471, 1.35e-05, 0.41, 0.382, 183.971], ['2ybbKsBCWsq0f9dgbIIxon', b'Legendary', b'Sa-Roc', 1, 186734, 2014, 0.654, 0.946, 2, -3.148, 1, 0.285, 0.0495, 0, 0.227, 0.57, 98.541], ['3NZzsmrtxfJd8nJBImXhRr', b'The Moors of Alhambra', b'Sa-Roc', 3, 149138, 2013, 0.591, 0.807, 4, -5.695, 0, 0.384, 0.0623, 0, 0.593, 0.457, 87.455], ['0QTGhJ1LKgSj2PQLslXLzg', b\"Lilith's Psalm\", b'Sa-Roc', 11, 187428, 2015, 0.942, 0.575, 2, -10.119, 1, 0.2, 0.0309, 0, 0.11, 0.816, 105.005], ['2BzQBXEmNFP6YTLgr1mRd2', b'MetaMorpheus', b'Sa-Roc', 0, 222469, 2016, 0.591, 0.615, 1, -6.294, 1, 0.479, 0.0048, 0, 0.279, 0.416, 165.815], ['2TA0vUqYBjLuUIcgZzYL2v', b'WWII (Word War II)', b'Sa-Roc', 0, 128780, 2016, 0.763, 0.825, 1, -6.061, 1, 0.441, 0.0149, 0, 0.437, 0.235, 81.993], ['5oqSr3rehtGgZyDh0LCSA7', b'Gotta Get Mine', b'MC Breed', 46, 264760, 1993, 0.855, 0.52, 7, -12.07, 1, 0.268, 0.184, 0, 0.114, 0.402, 92.451], ['1HSGn0KVpyv9H6l2KRwmAI', b'Battle Hymn', b'Vinnie Paz', 37, 387240, 2012, 0.551, 0.899, 11, -5.219, 0, 0.217, 0.0031, 0, 0.369, 0.642, 87.457], ['01Xbm079iYopmVs8ZMqYGR', b'Pay Your Dues', b'Apathy', 18, 218826, 2016, 0.658, 0.819, 3, -7.692, 1, 0.297, 0.129, 0, 0.123, 0.402, 89.986], ['4gps46WZXlN1Z9EbdU4VQJ', b'Kindness For Weakness', b'Dilated Peoples', 32, 249280, 2006, 0.605, 0.914, 1, -1.518, 1, 0.377, 0.273, 0, 0.0569, 0.25, 190.11], ['0aXb3G2Tjedb8FyErfwNXn', b'Equality', b'Afu-Ra', 0, 277320, 2000, 0.653, 0.909, 7, -2.654, 1, 0.298, 0.169, 0, 0.101, 0.703, 88.999], ['3QXackOVhioop7C1VaaSp7', b'Nothing but Strangeness (feat. Looptroop Rockers & Hilltop Hoods)', b'CunninLynguists', 35, 198120, 2009, 0.841, 0.597, 7, -9.086, 1, 0.277, 0.0934, 0, 0.113, 0.707, 92.031], ['7x2zy4YgLY731TKaDFFeuj', b'When It Rains (feat. Aloe Blacc)', b'Dag Savage', 37, 176605, 2014, 0.68, 0.51, 7, -9.126, 1, 0.281, 0.155, 0, 0.691, 0.698, 90.055], ['4Nrg8EG7wWTiTOumtpw8gk', b'Let The Drummer Kick', b'Citizen Cope', 53, 257093, 2002, 0.766, 0.641, 9, -3.777, 0, 0.0445, 0.0165, 0.0386, 0.0809, 0.579, 85.011], ['5Wpy3gCoY3tQJxAaXWDWy7', b'Late For The Sky feat. Slug & Aesop Rock', b'Evidence', 0, 337560, 2011, 0.362, 0.862, 1, -3.295, 1, 0.35, 0.0361, 0, 0.855, 0.659, 76.206], ['63BokRfXSQhEU6Qi2dSJpZ', b'Mind Playing Tricks on Me', b'Geto Boys', 62, 308733, 1991, 0.886, 0.512, 10, -11.825, 0, 0.237, 0.207, 0, 0.0991, 0.454, 93.997], ['0fQ4aYENEakPclOlAyFtAX', b'Oh My', b'Sweatshop Union', 31, 235613, 2008, 0.873, 0.482, 6, -6.252, 1, 0.121, 0.681, 0.000434, 0.0921, 0.711, 93.204], ['6bO0RKtbyVtaKcNwvX8VUt', b'Definition of a Rap Flow (Albee 3000)', b'R.A. The Rugged Man', 0, 209280, 2013, 0.919, 0.841, 9, -3.509, 1, 0.325, 0.335, 0, 0.0749, 0.795, 110.951], ['2yfK4aneEYgrXSEUWhrVYQ', b'Suicide', b'Jedi Mind Tricks', 29, 232840, 2006, 0.683, 0.872, 1, -5.476, 1, 0.187, 0.00374, 0.000199, 0.145, 0.465, 93.946], ['3qDpYCA6FoVvODVaZWScXO', b'Point of No Return', b'Immortal Technique', 0, 241826, 2003, 0.624, 0.836, 7, -6.995, 0, 0.383, 0.277, 0, 0.294, 0.501, 86.971], ['0fzo46p4NjXy6DGWmgdAtX', b'Guide You Through Shadows (feat. Ra Scion & Substantial)', b'CunninLynguists', 19, 275454, 2014, 0.611, 0.783, 1, -6.455, 0, 0.0615, 0.262, 7.44e-06, 0.269, 0.278, 88.016], ['3kPWpLBQDkzpKKbwOcjn1e', b'Fraudulent Cloth', b'Jedi Mind Tricks', 37, 251307, 2015, 0.345, 0.907, 8, -2.985, 0, 0.107, 0.305, 0, 0.377, 0.329, 182.788], ['3jmHcu9v3FFRgtztbEejgk', b'Children Sing', b'PaceWon & Mr. Green', 30, 306893, 2008, 0.39, 0.89, 1, -6.145, 1, 0.203, 0.0479, 0, 0.226, 0.558, 83.052], ['32cQeY533XTAc4L6fzcIgG', b'Enemies With Benefits F. Tonedeff', b'CunninLynguists', 26, 277205, 2011, 0.356, 0.718, 1, -7.739, 0, 0.135, 0.0631, 2.85e-05, 0.346, 0.144, 99.561], ['6o7Ox5vC4eGaO3WBv77NQc', b'Freedom of Speech', b'Immortal Technique', 0, 187000, 2003, 0.899, 0.656, 10, -6.633, 0, 0.193, 0.155, 0, 0.061, 0.959, 96.355], ['2CpP9fn0s3EQN4ErGEF7UX', b'Beyond the Sun (feat. J Live)', b'CunninLynguists', 35, 161193, 2014, 0.687, 0.582, 6, -7.334, 0, 0.178, 0.32, 2.95e-05, 0.0997, 0.514, 90.048], ['0lD1Olt2y5u9d5zUUERxRC', b'Pour Me Another', b'Atmosphere', 0, 289746, 2005, 0.373, 0.913, 9, -5.052, 0, 0.413, 0.0045, 0.577, 0.133, 0.422, 173.583], ['2ulWTEGFSGdV85pweEluAS', b'Razorblade Salvation', b'Jedi Mind Tricks', 38, 261093, 2006, 0.735, 0.886, 7, -4.31, 1, 0.131, 0.00285, 0.848, 0.142, 0.498, 92.382], ['6qfna7A7WvUwyNoqVwbhnc', b\"Love Ain't (f. Tonedeff) [Deluxe Edition]\", b'CunninLynguists', 25, 241533, 2010, 0.669, 0.768, 7, -7.101, 1, 0.325, 0.648, 0.00361, 0.671, 0.556, 93.948], ['1f58xau99Rdn0hhcJTwRhz', b'Uncommon Valor: A Vietnam Story', b'Jedi Mind Tricks', 44, 242200, 2006, 0.764, 0.877, 2, -7.009, 1, 0.329, 0.133, 0.0435, 0.298, 0.65, 93.211], ['7eDrxsh5PQnsqiVNZxN9Z6', b'2020', b'Sol', 31, 224400, 2012, 0.761, 0.668, 4, -7.081, 1, 0.273, 0.285, 1.85e-06, 0.122, 0.455, 83.047], ['6knXhIPwVrtT639MX856YN', b'Melancholy Hopeful', b'Marcus D', 0, 250266, 2012, 0.662, 0.704, 9, -7.211, 0, 0.0863, 0.0787, 0, 0.141, 0.24, 95.93], ['6KsqFiw7IDFQM7QHBORGlN', b'Stars Shine Brightest (In The Darkest Of Night) F. Rick Warren', b'CunninLynguists', 27, 242484, 2011, 0.454, 0.856, 10, -5.853, 0, 0.103, 0.0225, 0.000283, 0.189, 0.629, 175.988], ['0dcMqjeDpwqB2xhzMsld0p', b'El Ma\\xc3\\xb1ana', b'Gorillaz', 62, 235360, 2005, 0.644, 0.728, 9, -8.396, 0, 0.029, 0.000988, 0.0279, 0.473, 0.607, 132.488], ['57Xjny5yNzAcsxnusKmAfA', b'Reptilia', b'The Strokes', 77, 219826, 2003, 0.489, 0.649, 9, -5.11, 1, 0.0336, 0.000603, 0.713, 0.101, 0.77, 158.009], ['2bfGNzdiRa1jXZRdfssSzR', b'Dirty Harry', b'Gorillaz', 70, 230426, 2005, 0.625, 0.877, 10, -7.176, 0, 0.162, 0.0315, 0.0811, 0.672, 0.865, 192.296], ['3oQqC98i1EhNRcXqIMoWQD', b'Soul Of Freedom feat. Cise Starr', b'Uyama Hiroto', 0, 302333, 2014, 0.641, 0.873, 8, -5.527, 0, 0.0759, 0.608, 0.696, 0.144, 0.69, 93.977], ['2QqAVlaV6Y45ebsXxfS5i8', b'Take Time', b'Awon', 27, 267906, 2014, 0.674, 0.625, 9, -8.7, 1, 0.0942, 0.493, 2.88e-06, 0.16, 0.603, 171.992], ['1r8VribZEm5y27e7F1UYlI', b'When I Close My Eyes (feat. Tunji)', b'SoulChef', 0, 209706, 2010, 0.591, 0.711, 0, -4.943, 0, 0.19, 0.863, 0, 0.109, 0.517, 92.187], ['2kUeMGOCBJEjTBc2PHeEU5', b\"Say Somethin' (feat. Nieve, Noah King, Adub & Tunji)\", b'SoulChef', 0, 269986, 2010, 0.745, 0.566, 1, -6.007, 1, 0.087, 0.336, 0, 0.0848, 0.475, 95.032], ['462T2Je5iJcUHIuvqYGgM9', b'Swell', b'Common Market', 25, 228728, 2008, 0.828, 0.65, 1, -5.837, 1, 0.201, 0.272, 0, 0.0977, 0.618, 85.012], ['6vmPUsrVk873GWkJwygHKD', b'nagashi', b'Idealism', 0, 109948, 2017, 0.726, 0.357, 10, -8.727, 1, 0.044, 0.862, 0.915, 0.134, 0.644, 85.046], ['7IRTS6jZPmNBIizSiAOcQZ', b\"Boys' bop\", b'Birocratic', 0, 180000, 2017, 0.58, 0.849, 9, -6.193, 0, 0.0489, 0.03, 0.513, 0.097, 0.781, 87.987], ['6bmJYo1KS2X2nzQrCGzdOe', b'Benzi Box (feat. CeeLo Green)', b'DANGERDOOM', 0, 180093, 2005, 0.894, 0.458, 2, -8.594, 1, 0.0508, 0.0666, 0.0187, 0.107, 0.682, 97.01], ['5kY75d5UPbz9xa3inTmiC8', b\"Comin' Up (feat. Mistah F.A.B.)\", b'The Grouch & Eligh', 17, 244506, 2009, 0.655, 0.594, 1, -5.182, 1, 0.06, 0.0825, 0.000233, 0.102, 0.508, 79.953], ['3dPQuX8Gs42Y7b454ybpMR', b'Seven Nation Army', b'The White Stripes', 3, 231733, 2003, 0.743, 0.446, 4, -7.807, 0, 0.0683, 0.0039, 0.118, 0.337, 0.278, 123.596], ['4M88Wd7Aps5LGRWMOC7gSH', b'Some Kind of Nature (feat. Lou Reed)', b'Gorillaz', 50, 179866, 2010, 0.769, 0.75, 10, -5.092, 1, 0.0304, 0.115, 0.0208, 0.0909, 0.942, 97.229], ['1RKUoGiLEbcXN4GY4spQDx', b'Clint Eastwood', b'Gorillaz', 68, 340920, 2001, 0.663, 0.694, 10, -8.627, 0, 0.171, 0.0253, 0, 0.0698, 0.525, 167.953], ['4iG2gAwKXsOcijVaVXzRPW', b'Time to Pretend', b'MGMT', 73, 261000, 2007, 0.438, 0.94, 2, -3.249, 1, 0.0452, 8.74e-05, 0.0777, 0.3, 0.421, 100.99], ['4j4pPKE3xAblPIbhxScC1j', b'Rawnald Gregory Erickson the Second', b'STRFKR', 58, 173693, 2008, 0.9, 0.538, 7, -7.879, 1, 0.0343, 0.229, 0.843, 0.287, 0.713, 95.508], ['5KUNwkaNf8l5A9sXZhiCgI', b'Rapp Snitch Knishes feat. Mr. Fantastik', b'MF DOOM', 0, 172893, 2004, 0.728, 0.832, 7, -6.827, 1, 0.267, 0.327, 0, 0.504, 0.825, 95.051], ['6lrDckuosGpwEHtm1hHBcf', b'November Has Come', b'Gorillaz', 66, 165093, 2005, 0.702, 0.567, 7, -8.561, 1, 0.239, 0.0815, 2.75e-05, 0.0864, 0.667, 84.153], ['5WmxGs0hBmoo9bcGlY0twV', b'Beautiful Girl', b'CunninLynguists', 34, 204706, 2006, 0.384, 0.787, 8, -5.861, 0, 0.336, 0.142, 2.79e-05, 0.39, 0.544, 84.85], ['5NcQLidkHKJHjzhhxPkbx3', b'Black Lake', b'Emancipator', 0, 218573, 2010, 0.59, 0.477, 11, -13.461, 0, 0.0307, 0.452, 0.516, 0.0963, 0.286, 90.499], ['1sE6ODOwN9yI7PO0xCpSPD', b'THE POSSE', b'The Grouch', 8, 254678, 2014, 0.671, 0.686, 6, -4.477, 1, 0.226, 0.0543, 0, 0.117, 0.544, 85.026], ['4dLM3Batl5GAUQyZdCbVFo', b'Anotha (BBQ)', b'People Under The Stairs', 0, 266946, 2008, 0.9, 0.661, 10, -6.489, 0, 0.368, 0.152, 0.00013, 0.644, 0.658, 104.231], ['0U6Rolz9wr2tAkVPKUKNU5', b'Before and After', b'Lyrics Born', 17, 276213, 2003, 0.828, 0.637, 1, -7.355, 0, 0.166, 0.0432, 1.91e-06, 0.374, 0.649, 92.699], ['3njlXiLTQyFXQwXNB9qvRb', b'So Cold', b'Collective Efforts', 5, 197920, 2010, 0.686, 0.759, 1, -6.771, 1, 0.167, 0.00973, 3.23e-05, 0.234, 0.664, 89.524], ['5roUoEWuTQ8Z8meO0A1Pcf', b'Pictures On My Wall', b'People Under The Stairs', 23, 276733, 2014, 0.829, 0.747, 1, -6.605, 0, 0.266, 0.577, 8.58e-06, 0.214, 0.529, 89.82], ['10KM0tUxrvaCQV25hq6dL8', b'The Travelers', b'Brother Ali', 0, 318133, 2009, 0.833, 0.729, 1, -5.758, 1, 0.243, 0.106, 0, 0.105, 0.462, 93.999], ['5kfBmqSGinIjj3dZsclSX0', b'Motion Movement', b'Blue Scholars', 20, 226946, 2004, 0.813, 0.714, 6, -6.414, 0, 0.203, 0.0884, 0, 0.19, 0.329, 95.312], ['5my9fP5XJ2oo0YHT43pJYu', b'Antenna', b'Zion I', 20, 238973, 2009, 0.702, 0.553, 2, -6.834, 0, 0.107, 0.17, 0, 0.133, 0.373, 101.994], ['3koCCeSaVUyrRo3N2gHrd8', b\"Let's Groove\", b'Earth, Wind & Fire', 74, 339320, 1981, 0.869, 0.648, 11, -8.698, 0, 0.0633, 0.121, 2.17e-05, 0.126, 0.9, 125.035], ['7tqhbajSfrz2F7E1Z75ASX', b\"Ain't No Mountain High Enough\", b'Marvin Gaye', 0, 151666, 1967, 0.663, 0.6, 7, -10.87, 1, 0.032, 0.43, 0, 0.184, 0.797, 129.987], ['1k1Bqnv2R0uJXQN4u6LKYt', b\"Ain't No Sunshine\", b'Bill Withers', 81, 125093, 1971, 0.527, 0.415, 4, -11.451, 0, 0.122, 0.457, 1.72e-05, 0.117, 0.515, 78.169], ['4CoGNqLap7UGU5Q3VdKug0', b\"Ain't Too Proud To Beg\", b'The Temptations', 63, 156173, 1966, 0.763, 0.655, 0, -6.86, 1, 0.0417, 0.552, 0, 0.125, 0.925, 118.397], ['7qHqlaHTawgXSvT0G1wM4q', b'Close to Home', b'Sweatshop Union', 11, 293666, 2008, 0.795, 0.726, 5, -6.122, 0, 0.212, 0.409, 0, 0.503, 0.537, 96.116], ['0uMn8WKu3qtQLaUyal1bsz', b'Mastermind', b'Deltron 3030', 48, 214306, 2000, 0.741, 0.657, 0, -9.589, 0, 0.0374, 0.00224, 0.00756, 0.0825, 0.25, 94.211], ['4n3U09x3m3d1pNz0Sj7WNV', b'Anything Is Everything', b'The Dynospectrum', 26, 293200, 1998, 0.898, 0.546, 8, -7.57, 0, 0.313, 0.0021, 0.00015, 0.426, 0.229, 88.39], ['2WFggVC84b18ZkJTNgFnGP', b'believe feat. Cise Starr', b'Kenichiro Nishihara', 0, 263960, 2015, 0.82, 0.775, 2, -7.599, 1, 0.223, 0.59, 2.59e-06, 0.106, 0.44, 95.984], ['3Zl9FktbaF6nTI0cGpKYwr', b'Sunny Side Of Hell', b'Grieves', 0, 237106, 2011, 0.733, 0.683, 1, -5.87, 1, 0.18, 0.114, 2.15e-06, 0.268, 0.388, 79.96], ['3ut5Nkw2Hbv76fpzmujOFp', b'Everything', b'Murs', 32, 214026, 2008, 0.682, 0.814, 8, -4.549, 1, 0.118, 0.000443, 0.000449, 0.332, 0.681, 88.045], ['0pb0Y7tsJAXiPMYXatq4Og', b'On The Rocks', b'Grieves', 0, 185373, 2011, 0.592, 0.509, 11, -6.685, 1, 0.376, 0.0421, 0, 0.0814, 0.63, 180.12], ['2sKRFpIJi1x1px6mAKewIs', b'Slow Cure', b'Common Market', 15, 247405, 2008, 0.772, 0.806, 2, -4.048, 1, 0.331, 0.361, 0, 0.0641, 0.592, 85.024], ['3F2nXlS9FIJiaHqna12k1U', b'This Far', b'Collective Efforts', 20, 305853, 2010, 0.789, 0.739, 3, -7.452, 0, 0.169, 0.531, 0.0744, 0.109, 0.464, 103.469], ['29jmo4Awj9WdrcQ1AK8ghv', b'Walking Away', b'Brother Ali', 0, 238920, 2007, 0.856, 0.454, 1, -6.192, 1, 0.269, 0.458, 1.26e-06, 0.0829, 0.792, 89.887], ['3QOmgrh6ElgcPKwOAnbwgu', b'The Best Day', b'Atmosphere', 0, 216893, 2010, 0.882, 0.624, 6, -5.372, 1, 0.0681, 0.358, 0, 0.0678, 0.899, 96.898], ['76QX42psCJ7qa37hGVhMjS', b'Southside Revival', b'Blue Scholars', 18, 296893, 2006, 0.815, 0.828, 6, -4.238, 1, 0.282, 0.358, 6.39e-06, 0.101, 0.508, 89.064], ['51bB0OmoieIGoYZNT3RNyh', b\"The Humans' race\", b'Sweatshop Union', 19, 254146, 2006, 0.774, 0.782, 1, -6.594, 1, 0.0982, 0.289, 0, 0.232, 0.813, 97.906], ['7JC0gbtbTRSk1YXw8pPex6', b'Mic Like a Memory [Deluxe Edition] (feat. Kory Calico)', b'CunninLynguists', 1, 276100, 2001, 0.534, 0.548, 1, -8.792, 1, 0.0852, 0.245, 0.185, 0.121, 0.222, 92.116], ['7cHRys0Lhk9642dLaPUMkm', b'Soon It Will Be Cold Enough to Build Fires', b'Emancipator', 0, 174533, 2008, 0.707, 0.467, 7, -15.094, 0, 0.0488, 0.849, 0.685, 0.0957, 0.419, 94.417], ['5Kol7a51obXwqkwAhp0DkH', b'Way of the Light', b'Gift Of Gab', 24, 262213, 2004, 0.664, 0.786, 7, -5.066, 1, 0.297, 0.301, 4.72e-05, 0.166, 0.652, 95.692], ['47xpFbYu56SslEu3cL4jFY', b'In the City (feat. Zumbi of Zion I)', b'CunninLynguists', 21, 219752, 2014, 0.699, 0.61, 11, -7.948, 1, 0.101, 0.117, 0.00156, 0.504, 0.413, 88.017], ['0H1OureTxinowEaDHuR3pp', b'Fall From Paradise', b'Classified', 12, 252720, 2007, 0.636, 0.705, 1, -6.207, 1, 0.21, 0.345, 0, 0.0776, 0.649, 85.199], ['2D0JAGN3FR4EpkbjkTIEfp', b'Purple Kush (feat. Sunspot Jonz)', b'Living Legends', 32, 155066, 2006, 0.838, 0.826, 0, -3.457, 1, 0.304, 0.277, 9.21e-06, 0.0792, 0.31, 95.016], ['7B2zU9I4GLAovGueLPsUJU', b'50 Thousand Deep', b'Blue Scholars', 22, 307120, 2007, 0.506, 0.732, 1, -5.233, 1, 0.0807, 0.18, 0.00169, 0.0669, 0.554, 92.292], ['5KHebcXYSD3vG5Bl2YM9go', b'Trinity', b'Common Market', 9, 286106, 2006, 0.792, 0.816, 1, -5.519, 1, 0.234, 0.0919, 0, 0.133, 0.763, 93.659], ['7kH21UpmSW9vWDqxAa8oVP', b'Moving at the Speed of Life (feat. Aesop & Slug)', b'Living Legends', 37, 221520, 2006, 0.887, 0.779, 1, -4.568, 1, 0.235, 0.673, 0, 0.111, 0.62, 126.955]]\n"
     ]
    }
   ],
   "source": [
    "# pengambilan track (lagu) dari playlist\n",
    "def getPlaylistItems(token, playlistId):\n",
    "    # endpoint untuk akses playlist\n",
    "    url = f'https://api.spotify.com/v1/playlists/{playlistId}/tracks'\n",
    "    limit = '&limit=100'  # batas maksimal track yang diambil\n",
    "    market = '?market=ID'  # negara yang tempat aplikasi diakses\n",
    "    # format data dari track yang diambil\n",
    "    fields = '&fields=items%28track%28id%2Cname%2Cartists%2Cpopularity%2C+duration_ms%2C+album%28release_date%29%29%29'\n",
    "    url = url+market+fields+limit  # gabungkan semua parameter\n",
    "    # ambil token untuk otorisasi, gunakan sebagai header\n",
    "    headers = getAuthHeader(token)\n",
    "    result = get(url, headers=headers)  # kirim request GET ke spotify\n",
    "    json_result = json.loads(result.content)  # parse response ke json\n",
    "    # print(json_result)\n",
    "\n",
    "    # ambil data yang diperlukan dari response\n",
    "    for i in range(len(json_result['items'])):\n",
    "        playlist_items_temp = []\n",
    "        playlist_items_temp.append(json_result['items'][i]['track']['id'])\n",
    "        playlist_items_temp.append(\n",
    "            json_result['items'][i]['track']['name'].encode('utf-8'))\n",
    "        playlist_items_temp.append(\n",
    "            json_result['items'][i]['track']['artists'][0]['name'].encode('utf-8'))\n",
    "        playlist_items_temp.append(\n",
    "            json_result['items'][i]['track']['popularity'])\n",
    "        playlist_items_temp.append(\n",
    "            json_result['items'][i]['track']['duration_ms'])\n",
    "        playlist_items_temp.append(\n",
    "            int(json_result['items'][i]['track']['album']['release_date'][0:4]))\n",
    "        dataset.append(playlist_items_temp)\n",
    "\n",
    "    # ambil audio features dari semua track di dalam playlist\n",
    "    for i in range(len(dataset)):\n",
    "        getAudioFeatures(token, dataset[i][0])\n",
    "\n",
    "    # gabungkan dataset dan dataset2\n",
    "    for i in range(len(dataset)):\n",
    "        dataset3.append(dataset[i]+dataset2[i])\n",
    "\n",
    "    print(dataset3)\n",
    "    # convert dataset3 into csv\n",
    "    with open('dataset.csv', 'w', newline='') as file:\n",
    "        writer = csv.writer(file)\n",
    "        writer.writerow([\"id\", \"name\", \"artist\", \"popularity\", \"duration_ms\", \"year\", \"danceability\", \"energy\", \"key\", \"loudness\", \"mode\",\n",
    "                         \"speechiness\", \"acousticness\", \"instrumentalness\", \"liveness\", \"valence\", \"tempo\"])\n",
    "        writer.writerows(dataset3)\n",
    "\n",
    "token = getToken()\n",
    "print('access token : '+token)\n",
    "getPlaylistItems(token, playlistId)"
   ]
  },
  {
   "cell_type": "code",
   "execution_count": 11,
   "metadata": {},
   "outputs": [
    {
     "data": {
      "text/html": [
       "<div>\n",
       "<style scoped>\n",
       "    .dataframe tbody tr th:only-of-type {\n",
       "        vertical-align: middle;\n",
       "    }\n",
       "\n",
       "    .dataframe tbody tr th {\n",
       "        vertical-align: top;\n",
       "    }\n",
       "\n",
       "    .dataframe thead th {\n",
       "        text-align: right;\n",
       "    }\n",
       "</style>\n",
       "<table border=\"1\" class=\"dataframe\">\n",
       "  <thead>\n",
       "    <tr style=\"text-align: right;\">\n",
       "      <th></th>\n",
       "      <th>id</th>\n",
       "      <th>name</th>\n",
       "      <th>artist</th>\n",
       "      <th>popularity</th>\n",
       "      <th>duration_ms</th>\n",
       "      <th>year</th>\n",
       "      <th>danceability</th>\n",
       "      <th>energy</th>\n",
       "      <th>key</th>\n",
       "      <th>loudness</th>\n",
       "      <th>mode</th>\n",
       "      <th>speechiness</th>\n",
       "      <th>acousticness</th>\n",
       "      <th>instrumentalness</th>\n",
       "      <th>liveness</th>\n",
       "      <th>valence</th>\n",
       "      <th>tempo</th>\n",
       "    </tr>\n",
       "  </thead>\n",
       "  <tbody>\n",
       "    <tr>\n",
       "      <th>0</th>\n",
       "      <td>5R8J6WCnV1E2lDJgVoaA4P</td>\n",
       "      <td>b'Threats'</td>\n",
       "      <td>b'Jean Grae'</td>\n",
       "      <td>35</td>\n",
       "      <td>246293</td>\n",
       "      <td>2008</td>\n",
       "      <td>0.677</td>\n",
       "      <td>0.631</td>\n",
       "      <td>0</td>\n",
       "      <td>-6.363</td>\n",
       "      <td>1</td>\n",
       "      <td>0.0578</td>\n",
       "      <td>0.09860</td>\n",
       "      <td>0.000005</td>\n",
       "      <td>0.245</td>\n",
       "      <td>0.454</td>\n",
       "      <td>90.120</td>\n",
       "    </tr>\n",
       "    <tr>\n",
       "      <th>1</th>\n",
       "      <td>5ex7brQNeKhyh6wjQoMDr0</td>\n",
       "      <td>b\"Queen's Philosophy\"</td>\n",
       "      <td>b'Sa-Roc'</td>\n",
       "      <td>10</td>\n",
       "      <td>193750</td>\n",
       "      <td>2013</td>\n",
       "      <td>0.849</td>\n",
       "      <td>0.572</td>\n",
       "      <td>7</td>\n",
       "      <td>-10.119</td>\n",
       "      <td>1</td>\n",
       "      <td>0.3580</td>\n",
       "      <td>0.03350</td>\n",
       "      <td>0.000000</td>\n",
       "      <td>0.109</td>\n",
       "      <td>0.497</td>\n",
       "      <td>97.106</td>\n",
       "    </tr>\n",
       "    <tr>\n",
       "      <th>2</th>\n",
       "      <td>0t7k99JA9z0KaMw1BoEpk8</td>\n",
       "      <td>b'9th vs. Thought'</td>\n",
       "      <td>b'Black Thought'</td>\n",
       "      <td>0</td>\n",
       "      <td>167741</td>\n",
       "      <td>2018</td>\n",
       "      <td>0.751</td>\n",
       "      <td>0.933</td>\n",
       "      <td>7</td>\n",
       "      <td>-2.188</td>\n",
       "      <td>1</td>\n",
       "      <td>0.2940</td>\n",
       "      <td>0.02550</td>\n",
       "      <td>0.000000</td>\n",
       "      <td>0.071</td>\n",
       "      <td>0.458</td>\n",
       "      <td>93.032</td>\n",
       "    </tr>\n",
       "    <tr>\n",
       "      <th>3</th>\n",
       "      <td>1LM6EReMkAxuDXDF26ekl2</td>\n",
       "      <td>b'Get By'</td>\n",
       "      <td>b'Talib Kweli'</td>\n",
       "      <td>52</td>\n",
       "      <td>227426</td>\n",
       "      <td>2002</td>\n",
       "      <td>0.662</td>\n",
       "      <td>0.928</td>\n",
       "      <td>2</td>\n",
       "      <td>-4.688</td>\n",
       "      <td>1</td>\n",
       "      <td>0.3770</td>\n",
       "      <td>0.00324</td>\n",
       "      <td>0.000000</td>\n",
       "      <td>0.170</td>\n",
       "      <td>0.775</td>\n",
       "      <td>90.509</td>\n",
       "    </tr>\n",
       "    <tr>\n",
       "      <th>4</th>\n",
       "      <td>5DWbvNiVrH2u0Si9e21ZjW</td>\n",
       "      <td>b'We Comin'</td>\n",
       "      <td>b'Sa-Roc'</td>\n",
       "      <td>3</td>\n",
       "      <td>209655</td>\n",
       "      <td>2015</td>\n",
       "      <td>0.659</td>\n",
       "      <td>0.859</td>\n",
       "      <td>8</td>\n",
       "      <td>-2.767</td>\n",
       "      <td>1</td>\n",
       "      <td>0.4230</td>\n",
       "      <td>0.30100</td>\n",
       "      <td>0.000000</td>\n",
       "      <td>0.715</td>\n",
       "      <td>0.709</td>\n",
       "      <td>174.542</td>\n",
       "    </tr>\n",
       "  </tbody>\n",
       "</table>\n",
       "</div>"
      ],
      "text/plain": [
       "                       id                   name            artist  \\\n",
       "0  5R8J6WCnV1E2lDJgVoaA4P             b'Threats'      b'Jean Grae'   \n",
       "1  5ex7brQNeKhyh6wjQoMDr0  b\"Queen's Philosophy\"         b'Sa-Roc'   \n",
       "2  0t7k99JA9z0KaMw1BoEpk8     b'9th vs. Thought'  b'Black Thought'   \n",
       "3  1LM6EReMkAxuDXDF26ekl2              b'Get By'    b'Talib Kweli'   \n",
       "4  5DWbvNiVrH2u0Si9e21ZjW            b'We Comin'         b'Sa-Roc'   \n",
       "\n",
       "   popularity  duration_ms  year  danceability  energy  key  loudness  mode  \\\n",
       "0          35       246293  2008         0.677   0.631    0    -6.363     1   \n",
       "1          10       193750  2013         0.849   0.572    7   -10.119     1   \n",
       "2           0       167741  2018         0.751   0.933    7    -2.188     1   \n",
       "3          52       227426  2002         0.662   0.928    2    -4.688     1   \n",
       "4           3       209655  2015         0.659   0.859    8    -2.767     1   \n",
       "\n",
       "   speechiness  acousticness  instrumentalness  liveness  valence    tempo  \n",
       "0       0.0578       0.09860          0.000005     0.245    0.454   90.120  \n",
       "1       0.3580       0.03350          0.000000     0.109    0.497   97.106  \n",
       "2       0.2940       0.02550          0.000000     0.071    0.458   93.032  \n",
       "3       0.3770       0.00324          0.000000     0.170    0.775   90.509  \n",
       "4       0.4230       0.30100          0.000000     0.715    0.709  174.542  "
      ]
     },
     "execution_count": 11,
     "metadata": {},
     "output_type": "execute_result"
    }
   ],
   "source": [
    "import pandas as pd\n",
    "import numpy as np\n",
    "\n",
    "from sklearn.cluster import KMeans\n",
    "from sklearn.decomposition import PCA\n",
    "\n",
    "import plotly.express as px \n",
    "\n",
    "## muat dataset\n",
    "data = pd.read_csv('dataset.csv')\n",
    "data.head()"
   ]
  },
  {
   "cell_type": "code",
   "execution_count": 12,
   "metadata": {},
   "outputs": [
    {
     "data": {
      "text/html": [
       "<div>\n",
       "<style scoped>\n",
       "    .dataframe tbody tr th:only-of-type {\n",
       "        vertical-align: middle;\n",
       "    }\n",
       "\n",
       "    .dataframe tbody tr th {\n",
       "        vertical-align: top;\n",
       "    }\n",
       "\n",
       "    .dataframe thead th {\n",
       "        text-align: right;\n",
       "    }\n",
       "</style>\n",
       "<table border=\"1\" class=\"dataframe\">\n",
       "  <thead>\n",
       "    <tr style=\"text-align: right;\">\n",
       "      <th></th>\n",
       "      <th>id</th>\n",
       "      <th>name</th>\n",
       "      <th>artist</th>\n",
       "      <th>popularity</th>\n",
       "      <th>duration_ms</th>\n",
       "      <th>year</th>\n",
       "      <th>danceability</th>\n",
       "      <th>energy</th>\n",
       "      <th>key</th>\n",
       "      <th>loudness</th>\n",
       "      <th>mode</th>\n",
       "      <th>speechiness</th>\n",
       "      <th>acousticness</th>\n",
       "      <th>instrumentalness</th>\n",
       "      <th>liveness</th>\n",
       "      <th>valence</th>\n",
       "      <th>tempo</th>\n",
       "    </tr>\n",
       "  </thead>\n",
       "  <tbody>\n",
       "    <tr>\n",
       "      <th>0</th>\n",
       "      <td>5R8J6WCnV1E2lDJgVoaA4P</td>\n",
       "      <td>Threats</td>\n",
       "      <td>Jean Grae</td>\n",
       "      <td>35</td>\n",
       "      <td>246293</td>\n",
       "      <td>2008</td>\n",
       "      <td>0.677</td>\n",
       "      <td>0.631</td>\n",
       "      <td>0</td>\n",
       "      <td>-6.363</td>\n",
       "      <td>1</td>\n",
       "      <td>0.0578</td>\n",
       "      <td>0.09860</td>\n",
       "      <td>0.000005</td>\n",
       "      <td>0.245</td>\n",
       "      <td>0.454</td>\n",
       "      <td>90.120</td>\n",
       "    </tr>\n",
       "    <tr>\n",
       "      <th>1</th>\n",
       "      <td>5ex7brQNeKhyh6wjQoMDr0</td>\n",
       "      <td>Queen's Philosophy</td>\n",
       "      <td>Sa-Roc</td>\n",
       "      <td>10</td>\n",
       "      <td>193750</td>\n",
       "      <td>2013</td>\n",
       "      <td>0.849</td>\n",
       "      <td>0.572</td>\n",
       "      <td>7</td>\n",
       "      <td>-10.119</td>\n",
       "      <td>1</td>\n",
       "      <td>0.3580</td>\n",
       "      <td>0.03350</td>\n",
       "      <td>0.000000</td>\n",
       "      <td>0.109</td>\n",
       "      <td>0.497</td>\n",
       "      <td>97.106</td>\n",
       "    </tr>\n",
       "    <tr>\n",
       "      <th>2</th>\n",
       "      <td>0t7k99JA9z0KaMw1BoEpk8</td>\n",
       "      <td>9th vs. Thought</td>\n",
       "      <td>Black Thought</td>\n",
       "      <td>0</td>\n",
       "      <td>167741</td>\n",
       "      <td>2018</td>\n",
       "      <td>0.751</td>\n",
       "      <td>0.933</td>\n",
       "      <td>7</td>\n",
       "      <td>-2.188</td>\n",
       "      <td>1</td>\n",
       "      <td>0.2940</td>\n",
       "      <td>0.02550</td>\n",
       "      <td>0.000000</td>\n",
       "      <td>0.071</td>\n",
       "      <td>0.458</td>\n",
       "      <td>93.032</td>\n",
       "    </tr>\n",
       "    <tr>\n",
       "      <th>3</th>\n",
       "      <td>1LM6EReMkAxuDXDF26ekl2</td>\n",
       "      <td>Get By</td>\n",
       "      <td>Talib Kweli</td>\n",
       "      <td>52</td>\n",
       "      <td>227426</td>\n",
       "      <td>2002</td>\n",
       "      <td>0.662</td>\n",
       "      <td>0.928</td>\n",
       "      <td>2</td>\n",
       "      <td>-4.688</td>\n",
       "      <td>1</td>\n",
       "      <td>0.3770</td>\n",
       "      <td>0.00324</td>\n",
       "      <td>0.000000</td>\n",
       "      <td>0.170</td>\n",
       "      <td>0.775</td>\n",
       "      <td>90.509</td>\n",
       "    </tr>\n",
       "    <tr>\n",
       "      <th>4</th>\n",
       "      <td>5DWbvNiVrH2u0Si9e21ZjW</td>\n",
       "      <td>We Comin</td>\n",
       "      <td>Sa-Roc</td>\n",
       "      <td>3</td>\n",
       "      <td>209655</td>\n",
       "      <td>2015</td>\n",
       "      <td>0.659</td>\n",
       "      <td>0.859</td>\n",
       "      <td>8</td>\n",
       "      <td>-2.767</td>\n",
       "      <td>1</td>\n",
       "      <td>0.4230</td>\n",
       "      <td>0.30100</td>\n",
       "      <td>0.000000</td>\n",
       "      <td>0.715</td>\n",
       "      <td>0.709</td>\n",
       "      <td>174.542</td>\n",
       "    </tr>\n",
       "  </tbody>\n",
       "</table>\n",
       "</div>"
      ],
      "text/plain": [
       "                       id                name         artist  popularity  \\\n",
       "0  5R8J6WCnV1E2lDJgVoaA4P             Threats      Jean Grae          35   \n",
       "1  5ex7brQNeKhyh6wjQoMDr0  Queen's Philosophy         Sa-Roc          10   \n",
       "2  0t7k99JA9z0KaMw1BoEpk8     9th vs. Thought  Black Thought           0   \n",
       "3  1LM6EReMkAxuDXDF26ekl2              Get By    Talib Kweli          52   \n",
       "4  5DWbvNiVrH2u0Si9e21ZjW            We Comin         Sa-Roc           3   \n",
       "\n",
       "   duration_ms  year  danceability  energy  key  loudness  mode  speechiness  \\\n",
       "0       246293  2008         0.677   0.631    0    -6.363     1       0.0578   \n",
       "1       193750  2013         0.849   0.572    7   -10.119     1       0.3580   \n",
       "2       167741  2018         0.751   0.933    7    -2.188     1       0.2940   \n",
       "3       227426  2002         0.662   0.928    2    -4.688     1       0.3770   \n",
       "4       209655  2015         0.659   0.859    8    -2.767     1       0.4230   \n",
       "\n",
       "   acousticness  instrumentalness  liveness  valence    tempo  \n",
       "0       0.09860          0.000005     0.245    0.454   90.120  \n",
       "1       0.03350          0.000000     0.109    0.497   97.106  \n",
       "2       0.02550          0.000000     0.071    0.458   93.032  \n",
       "3       0.00324          0.000000     0.170    0.775   90.509  \n",
       "4       0.30100          0.000000     0.715    0.709  174.542  "
      ]
     },
     "execution_count": 12,
     "metadata": {},
     "output_type": "execute_result"
    }
   ],
   "source": [
    "## Hapus karakter yang tidak perlu pada kolom artist dan name\n",
    "data['artist'] = data['artist'].map(lambda x: str(x)[2:-1])\n",
    "data['name'] = data['name'].map(lambda x: str(x)[2:-1])\n",
    "\n",
    "data.head()"
   ]
  },
  {
   "cell_type": "code",
   "execution_count": 13,
   "metadata": {},
   "outputs": [
    {
     "data": {
      "text/html": [
       "<div>\n",
       "<style scoped>\n",
       "    .dataframe tbody tr th:only-of-type {\n",
       "        vertical-align: middle;\n",
       "    }\n",
       "\n",
       "    .dataframe tbody tr th {\n",
       "        vertical-align: top;\n",
       "    }\n",
       "\n",
       "    .dataframe thead th {\n",
       "        text-align: right;\n",
       "    }\n",
       "</style>\n",
       "<table border=\"1\" class=\"dataframe\">\n",
       "  <thead>\n",
       "    <tr style=\"text-align: right;\">\n",
       "      <th></th>\n",
       "      <th>id</th>\n",
       "      <th>name</th>\n",
       "      <th>artist</th>\n",
       "      <th>popularity</th>\n",
       "      <th>duration_ms</th>\n",
       "      <th>year</th>\n",
       "      <th>danceability</th>\n",
       "      <th>energy</th>\n",
       "      <th>key</th>\n",
       "      <th>loudness</th>\n",
       "      <th>mode</th>\n",
       "      <th>speechiness</th>\n",
       "      <th>acousticness</th>\n",
       "      <th>instrumentalness</th>\n",
       "      <th>liveness</th>\n",
       "      <th>valence</th>\n",
       "      <th>tempo</th>\n",
       "    </tr>\n",
       "  </thead>\n",
       "  <tbody>\n",
       "    <tr>\n",
       "      <th>0</th>\n",
       "      <td>5R8J6WCnV1E2lDJgVoaA4P</td>\n",
       "      <td>Threats</td>\n",
       "      <td>Jean Grae</td>\n",
       "      <td>35</td>\n",
       "      <td>246293</td>\n",
       "      <td>2008</td>\n",
       "      <td>0.677</td>\n",
       "      <td>0.631</td>\n",
       "      <td>0</td>\n",
       "      <td>-6.363</td>\n",
       "      <td>1</td>\n",
       "      <td>0.0578</td>\n",
       "      <td>0.09860</td>\n",
       "      <td>0.000005</td>\n",
       "      <td>0.245</td>\n",
       "      <td>0.454</td>\n",
       "      <td>90.120</td>\n",
       "    </tr>\n",
       "    <tr>\n",
       "      <th>1</th>\n",
       "      <td>5ex7brQNeKhyh6wjQoMDr0</td>\n",
       "      <td>Queen's Philosophy</td>\n",
       "      <td>Sa-Roc</td>\n",
       "      <td>10</td>\n",
       "      <td>193750</td>\n",
       "      <td>2013</td>\n",
       "      <td>0.849</td>\n",
       "      <td>0.572</td>\n",
       "      <td>7</td>\n",
       "      <td>-10.119</td>\n",
       "      <td>1</td>\n",
       "      <td>0.3580</td>\n",
       "      <td>0.03350</td>\n",
       "      <td>0.000000</td>\n",
       "      <td>0.109</td>\n",
       "      <td>0.497</td>\n",
       "      <td>97.106</td>\n",
       "    </tr>\n",
       "    <tr>\n",
       "      <th>2</th>\n",
       "      <td>0t7k99JA9z0KaMw1BoEpk8</td>\n",
       "      <td>9th vs. Thought</td>\n",
       "      <td>Black Thought</td>\n",
       "      <td>0</td>\n",
       "      <td>167741</td>\n",
       "      <td>2018</td>\n",
       "      <td>0.751</td>\n",
       "      <td>0.933</td>\n",
       "      <td>7</td>\n",
       "      <td>-2.188</td>\n",
       "      <td>1</td>\n",
       "      <td>0.2940</td>\n",
       "      <td>0.02550</td>\n",
       "      <td>0.000000</td>\n",
       "      <td>0.071</td>\n",
       "      <td>0.458</td>\n",
       "      <td>93.032</td>\n",
       "    </tr>\n",
       "    <tr>\n",
       "      <th>3</th>\n",
       "      <td>1LM6EReMkAxuDXDF26ekl2</td>\n",
       "      <td>Get By</td>\n",
       "      <td>Talib Kweli</td>\n",
       "      <td>52</td>\n",
       "      <td>227426</td>\n",
       "      <td>2002</td>\n",
       "      <td>0.662</td>\n",
       "      <td>0.928</td>\n",
       "      <td>2</td>\n",
       "      <td>-4.688</td>\n",
       "      <td>1</td>\n",
       "      <td>0.3770</td>\n",
       "      <td>0.00324</td>\n",
       "      <td>0.000000</td>\n",
       "      <td>0.170</td>\n",
       "      <td>0.775</td>\n",
       "      <td>90.509</td>\n",
       "    </tr>\n",
       "    <tr>\n",
       "      <th>4</th>\n",
       "      <td>5DWbvNiVrH2u0Si9e21ZjW</td>\n",
       "      <td>We Comin</td>\n",
       "      <td>Sa-Roc</td>\n",
       "      <td>3</td>\n",
       "      <td>209655</td>\n",
       "      <td>2015</td>\n",
       "      <td>0.659</td>\n",
       "      <td>0.859</td>\n",
       "      <td>8</td>\n",
       "      <td>-2.767</td>\n",
       "      <td>1</td>\n",
       "      <td>0.4230</td>\n",
       "      <td>0.30100</td>\n",
       "      <td>0.000000</td>\n",
       "      <td>0.715</td>\n",
       "      <td>0.709</td>\n",
       "      <td>174.542</td>\n",
       "    </tr>\n",
       "  </tbody>\n",
       "</table>\n",
       "</div>"
      ],
      "text/plain": [
       "                       id                name         artist  popularity  \\\n",
       "0  5R8J6WCnV1E2lDJgVoaA4P             Threats      Jean Grae          35   \n",
       "1  5ex7brQNeKhyh6wjQoMDr0  Queen's Philosophy         Sa-Roc          10   \n",
       "2  0t7k99JA9z0KaMw1BoEpk8     9th vs. Thought  Black Thought           0   \n",
       "3  1LM6EReMkAxuDXDF26ekl2              Get By    Talib Kweli          52   \n",
       "4  5DWbvNiVrH2u0Si9e21ZjW            We Comin         Sa-Roc           3   \n",
       "\n",
       "   duration_ms  year  danceability  energy  key  loudness  mode  speechiness  \\\n",
       "0       246293  2008         0.677   0.631    0    -6.363     1       0.0578   \n",
       "1       193750  2013         0.849   0.572    7   -10.119     1       0.3580   \n",
       "2       167741  2018         0.751   0.933    7    -2.188     1       0.2940   \n",
       "3       227426  2002         0.662   0.928    2    -4.688     1       0.3770   \n",
       "4       209655  2015         0.659   0.859    8    -2.767     1       0.4230   \n",
       "\n",
       "   acousticness  instrumentalness  liveness  valence    tempo  \n",
       "0       0.09860          0.000005     0.245    0.454   90.120  \n",
       "1       0.03350          0.000000     0.109    0.497   97.106  \n",
       "2       0.02550          0.000000     0.071    0.458   93.032  \n",
       "3       0.00324          0.000000     0.170    0.775   90.509  \n",
       "4       0.30100          0.000000     0.715    0.709  174.542  "
      ]
     },
     "execution_count": 13,
     "metadata": {},
     "output_type": "execute_result"
    }
   ],
   "source": [
    "##delete empty string in name column\n",
    "data = data[data['name'] != '']\n",
    "\n",
    "##reset index\n",
    "data = data.reset_index(drop=True)\n",
    "data.head()"
   ]
  },
  {
   "cell_type": "code",
   "execution_count": 14,
   "metadata": {},
   "outputs": [
    {
     "data": {
      "text/html": [
       "<div>\n",
       "<style scoped>\n",
       "    .dataframe tbody tr th:only-of-type {\n",
       "        vertical-align: middle;\n",
       "    }\n",
       "\n",
       "    .dataframe tbody tr th {\n",
       "        vertical-align: top;\n",
       "    }\n",
       "\n",
       "    .dataframe thead th {\n",
       "        text-align: right;\n",
       "    }\n",
       "</style>\n",
       "<table border=\"1\" class=\"dataframe\">\n",
       "  <thead>\n",
       "    <tr style=\"text-align: right;\">\n",
       "      <th></th>\n",
       "      <th>danceability</th>\n",
       "      <th>energy</th>\n",
       "      <th>loudness</th>\n",
       "      <th>speechiness</th>\n",
       "      <th>acousticness</th>\n",
       "      <th>instrumentalness</th>\n",
       "      <th>liveness</th>\n",
       "      <th>valence</th>\n",
       "      <th>tempo</th>\n",
       "    </tr>\n",
       "  </thead>\n",
       "  <tbody>\n",
       "    <tr>\n",
       "      <th>0</th>\n",
       "      <td>0.677</td>\n",
       "      <td>0.631</td>\n",
       "      <td>-6.363</td>\n",
       "      <td>0.0578</td>\n",
       "      <td>0.09860</td>\n",
       "      <td>0.000005</td>\n",
       "      <td>0.245</td>\n",
       "      <td>0.454</td>\n",
       "      <td>90.120</td>\n",
       "    </tr>\n",
       "    <tr>\n",
       "      <th>1</th>\n",
       "      <td>0.849</td>\n",
       "      <td>0.572</td>\n",
       "      <td>-10.119</td>\n",
       "      <td>0.3580</td>\n",
       "      <td>0.03350</td>\n",
       "      <td>0.000000</td>\n",
       "      <td>0.109</td>\n",
       "      <td>0.497</td>\n",
       "      <td>97.106</td>\n",
       "    </tr>\n",
       "    <tr>\n",
       "      <th>2</th>\n",
       "      <td>0.751</td>\n",
       "      <td>0.933</td>\n",
       "      <td>-2.188</td>\n",
       "      <td>0.2940</td>\n",
       "      <td>0.02550</td>\n",
       "      <td>0.000000</td>\n",
       "      <td>0.071</td>\n",
       "      <td>0.458</td>\n",
       "      <td>93.032</td>\n",
       "    </tr>\n",
       "    <tr>\n",
       "      <th>3</th>\n",
       "      <td>0.662</td>\n",
       "      <td>0.928</td>\n",
       "      <td>-4.688</td>\n",
       "      <td>0.3770</td>\n",
       "      <td>0.00324</td>\n",
       "      <td>0.000000</td>\n",
       "      <td>0.170</td>\n",
       "      <td>0.775</td>\n",
       "      <td>90.509</td>\n",
       "    </tr>\n",
       "    <tr>\n",
       "      <th>4</th>\n",
       "      <td>0.659</td>\n",
       "      <td>0.859</td>\n",
       "      <td>-2.767</td>\n",
       "      <td>0.4230</td>\n",
       "      <td>0.30100</td>\n",
       "      <td>0.000000</td>\n",
       "      <td>0.715</td>\n",
       "      <td>0.709</td>\n",
       "      <td>174.542</td>\n",
       "    </tr>\n",
       "  </tbody>\n",
       "</table>\n",
       "</div>"
      ],
      "text/plain": [
       "   danceability  energy  loudness  speechiness  acousticness  \\\n",
       "0         0.677   0.631    -6.363       0.0578       0.09860   \n",
       "1         0.849   0.572   -10.119       0.3580       0.03350   \n",
       "2         0.751   0.933    -2.188       0.2940       0.02550   \n",
       "3         0.662   0.928    -4.688       0.3770       0.00324   \n",
       "4         0.659   0.859    -2.767       0.4230       0.30100   \n",
       "\n",
       "   instrumentalness  liveness  valence    tempo  \n",
       "0          0.000005     0.245    0.454   90.120  \n",
       "1          0.000000     0.109    0.497   97.106  \n",
       "2          0.000000     0.071    0.458   93.032  \n",
       "3          0.000000     0.170    0.775   90.509  \n",
       "4          0.000000     0.715    0.709  174.542  "
      ]
     },
     "execution_count": 14,
     "metadata": {},
     "output_type": "execute_result"
    }
   ],
   "source": [
    "## drop name artist and year column\n",
    "data2 = data.copy()\n",
    "data2 = data2.drop(['artist', 'name', 'year', 'popularity', 'key','duration_ms', 'mode', 'id'], axis=1)\n",
    "\n",
    "data2.head()"
   ]
  },
  {
   "cell_type": "code",
   "execution_count": 15,
   "metadata": {},
   "outputs": [
    {
     "data": {
      "text/html": [
       "<div>\n",
       "<style scoped>\n",
       "    .dataframe tbody tr th:only-of-type {\n",
       "        vertical-align: middle;\n",
       "    }\n",
       "\n",
       "    .dataframe tbody tr th {\n",
       "        vertical-align: top;\n",
       "    }\n",
       "\n",
       "    .dataframe thead th {\n",
       "        text-align: right;\n",
       "    }\n",
       "</style>\n",
       "<table border=\"1\" class=\"dataframe\">\n",
       "  <thead>\n",
       "    <tr style=\"text-align: right;\">\n",
       "      <th></th>\n",
       "      <th>acousticness</th>\n",
       "      <th>danceability</th>\n",
       "      <th>energy</th>\n",
       "      <th>instrumentalness</th>\n",
       "      <th>loudness</th>\n",
       "      <th>liveness</th>\n",
       "      <th>speechiness</th>\n",
       "      <th>tempo</th>\n",
       "      <th>valence</th>\n",
       "    </tr>\n",
       "  </thead>\n",
       "  <tbody>\n",
       "    <tr>\n",
       "      <th>count</th>\n",
       "      <td>100.000000</td>\n",
       "      <td>100.000000</td>\n",
       "      <td>100.000000</td>\n",
       "      <td>100.000000</td>\n",
       "      <td>100.000000</td>\n",
       "      <td>100.000000</td>\n",
       "      <td>100.000000</td>\n",
       "      <td>100.000000</td>\n",
       "      <td>100.000000</td>\n",
       "    </tr>\n",
       "    <tr>\n",
       "      <th>mean</th>\n",
       "      <td>0.596432</td>\n",
       "      <td>0.590487</td>\n",
       "      <td>0.623452</td>\n",
       "      <td>0.375069</td>\n",
       "      <td>0.243620</td>\n",
       "      <td>0.076594</td>\n",
       "      <td>0.212148</td>\n",
       "      <td>0.512589</td>\n",
       "      <td>0.244390</td>\n",
       "    </tr>\n",
       "    <tr>\n",
       "      <th>std</th>\n",
       "      <td>0.230666</td>\n",
       "      <td>0.239939</td>\n",
       "      <td>0.176218</td>\n",
       "      <td>0.260916</td>\n",
       "      <td>0.251885</td>\n",
       "      <td>0.224340</td>\n",
       "      <td>0.227769</td>\n",
       "      <td>0.230403</td>\n",
       "      <td>0.253719</td>\n",
       "    </tr>\n",
       "    <tr>\n",
       "      <th>min</th>\n",
       "      <td>0.000000</td>\n",
       "      <td>0.000000</td>\n",
       "      <td>0.000000</td>\n",
       "      <td>0.000000</td>\n",
       "      <td>0.000000</td>\n",
       "      <td>0.000000</td>\n",
       "      <td>0.000000</td>\n",
       "      <td>0.000000</td>\n",
       "      <td>0.000000</td>\n",
       "    </tr>\n",
       "    <tr>\n",
       "      <th>25%</th>\n",
       "      <td>0.493719</td>\n",
       "      <td>0.406460</td>\n",
       "      <td>0.540513</td>\n",
       "      <td>0.131809</td>\n",
       "      <td>0.040981</td>\n",
       "      <td>0.000000</td>\n",
       "      <td>0.054849</td>\n",
       "      <td>0.357669</td>\n",
       "      <td>0.110619</td>\n",
       "    </tr>\n",
       "    <tr>\n",
       "      <th>50%</th>\n",
       "      <td>0.597990</td>\n",
       "      <td>0.604866</td>\n",
       "      <td>0.635091</td>\n",
       "      <td>0.369023</td>\n",
       "      <td>0.144757</td>\n",
       "      <td>0.000002</td>\n",
       "      <td>0.100990</td>\n",
       "      <td>0.506748</td>\n",
       "      <td>0.151576</td>\n",
       "    </tr>\n",
       "    <tr>\n",
       "      <th>75%</th>\n",
       "      <td>0.761307</td>\n",
       "      <td>0.787752</td>\n",
       "      <td>0.731438</td>\n",
       "      <td>0.557173</td>\n",
       "      <td>0.381166</td>\n",
       "      <td>0.000351</td>\n",
       "      <td>0.298334</td>\n",
       "      <td>0.662577</td>\n",
       "      <td>0.204257</td>\n",
       "    </tr>\n",
       "    <tr>\n",
       "      <th>max</th>\n",
       "      <td>1.000000</td>\n",
       "      <td>1.000000</td>\n",
       "      <td>1.000000</td>\n",
       "      <td>1.000000</td>\n",
       "      <td>1.000000</td>\n",
       "      <td>1.000000</td>\n",
       "      <td>1.000000</td>\n",
       "      <td>1.000000</td>\n",
       "      <td>1.000000</td>\n",
       "    </tr>\n",
       "  </tbody>\n",
       "</table>\n",
       "</div>"
      ],
      "text/plain": [
       "       acousticness  danceability      energy  instrumentalness    loudness  \\\n",
       "count    100.000000    100.000000  100.000000        100.000000  100.000000   \n",
       "mean       0.596432      0.590487    0.623452          0.375069    0.243620   \n",
       "std        0.230666      0.239939    0.176218          0.260916    0.251885   \n",
       "min        0.000000      0.000000    0.000000          0.000000    0.000000   \n",
       "25%        0.493719      0.406460    0.540513          0.131809    0.040981   \n",
       "50%        0.597990      0.604866    0.635091          0.369023    0.144757   \n",
       "75%        0.761307      0.787752    0.731438          0.557173    0.381166   \n",
       "max        1.000000      1.000000    1.000000          1.000000    1.000000   \n",
       "\n",
       "         liveness  speechiness       tempo     valence  \n",
       "count  100.000000   100.000000  100.000000  100.000000  \n",
       "mean     0.076594     0.212148    0.512589    0.244390  \n",
       "std      0.224340     0.227769    0.230403    0.253719  \n",
       "min      0.000000     0.000000    0.000000    0.000000  \n",
       "25%      0.000000     0.054849    0.357669    0.110619  \n",
       "50%      0.000002     0.100990    0.506748    0.151576  \n",
       "75%      0.000351     0.298334    0.662577    0.204257  \n",
       "max      1.000000     1.000000    1.000000    1.000000  "
      ]
     },
     "execution_count": 15,
     "metadata": {},
     "output_type": "execute_result"
    }
   ],
   "source": [
    "from sklearn import preprocessing\n",
    "\n",
    "## normalize all data to 0 and 1\n",
    "x = data2.values ##returns a numpy array\n",
    "min_max_scaler = preprocessing.MinMaxScaler()\n",
    "x_scaled = min_max_scaler.fit_transform(x)\n",
    "data2 = pd.DataFrame(x_scaled)\n",
    "\n",
    "## convert to dataframe\n",
    "data2.columns = ['acousticness','danceability','energy','instrumentalness','loudness', 'liveness', 'speechiness', 'tempo','valence']\n",
    "\n",
    "## data2.head()\n",
    "data2.describe()"
   ]
  },
  {
   "cell_type": "code",
   "execution_count": 16,
   "metadata": {},
   "outputs": [
    {
     "data": {
      "application/vnd.plotly.v1+json": {
       "config": {
        "plotlyServerURL": "https://plot.ly"
       },
       "data": [
        {
         "hovertemplate": "x=%{x}<br>y=%{y}<extra></extra>",
         "legendgroup": "",
         "marker": {
          "color": "#000001",
          "symbol": "circle"
         },
         "mode": "markers",
         "name": "",
         "orientation": "v",
         "showlegend": false,
         "type": "scatter",
         "x": [
          -0.14054868970044787,
          -0.07249975046313684,
          0.35568449197055235,
          0.44541594190252315,
          0.7502314692429322,
          0.20209466627249878,
          0.273779201115033,
          0.5406632043086803,
          -0.06766345743414937,
          0.07370924854457522,
          0.35912654060877874,
          0.03905379539924342,
          0.5165404198341979,
          0.4411393099126553,
          0.53469117370802,
          -0.27366379206973845,
          0.5132085334469398,
          0.4768273820926929,
          -0.31438692411968105,
          0.3935104391995348,
          0.16661677950521997,
          0.6009640526922733,
          0.299192378921089,
          -0.15612928334514908,
          0.06491237701840663,
          -0.19525723437986914,
          0.7893417031685117,
          -0.3777356827264515,
          -0.6254435301186125,
          0.0806361127013418,
          0.20571878362877666,
          0.2887241053634944,
          -0.03745663585389175,
          0.5224092701931453,
          0.34513462316347315,
          0.2276549299334854,
          -0.2241469694824777,
          -0.25229613947864904,
          0.6195845156166484,
          -0.07164463657433906,
          0.1571264272987904,
          0.2592914211803184,
          -0.10334541839920258,
          -0.07166266764054208,
          0.37527943963504323,
          0.09054901985282754,
          -0.12852040536259118,
          0.536741551196098,
          -0.3551344438736933,
          -0.21267343953086199,
          -0.27221676923267313,
          -0.3540223356537284,
          -0.20595184047728127,
          -1.1065216556106108,
          -0.11982372937075453,
          -0.48940859576618106,
          -0.21139021753242615,
          -0.21299860378856283,
          -0.18508602527095747,
          0.09231510035856266,
          0.34831506732889256,
          -0.6505375506522784,
          0.1863723783512961,
          -0.16074064312261666,
          0.43211683456235245,
          -0.7475428594816019,
          0.06036724376571495,
          0.23934896336578165,
          -0.05122113427225078,
          0.07656649136644561,
          -0.14953413812883948,
          0.005380692235030238,
          0.005505502435596388,
          -0.22685900543540433,
          -0.28196671575276655,
          -0.39615307774184644,
          -0.5333876306464692,
          -0.4157287750809616,
          0.015504281705472689,
          -0.24231880331642186,
          0.04258588773004163,
          -0.2179277886351464,
          -0.007273718569701715,
          0.16361867844650196,
          0.23053988794857688,
          0.061176290372913666,
          -0.26164439134832884,
          -0.4117630742407608,
          -0.4196599077763988,
          0.03827491141626055,
          -0.12783953072273263,
          -0.3121393262492381,
          -1.0507000989576165,
          0.12772515842748305,
          -0.05964256425819342,
          -0.11268685505322645,
          0.11701568701768389,
          -0.04612567793080108,
          0.08766404375562192,
          -0.15492426858776343
         ],
         "xaxis": "x",
         "y": [
          -0.06564774614545132,
          0.3773169116169156,
          0.13314342963725778,
          0.20067678609957496,
          -0.10066755458093407,
          -0.14014476820819763,
          0.4951694819339423,
          0.22869208793153006,
          0.14688487726738814,
          0.2955169605533631,
          0.16545743785548034,
          0.30089515163172,
          -0.0921945342417585,
          0.0351332404239163,
          0.1613653216982936,
          0.32473173360853536,
          -0.06863184346272769,
          0.3601714667806758,
          0.31622340970613017,
          -0.040701602589924724,
          0.0963486605894458,
          -0.3816258453332205,
          0.09838397175683505,
          0.33269878799738295,
          0.24324300165663182,
          0.007289220228773208,
          -0.012622833491874763,
          0.315269992566923,
          0.1959997008872053,
          0.30095559747930467,
          -0.005280097920199955,
          0.17129946049385764,
          -0.17414846847694243,
          -0.8143468916058514,
          -0.20382250549381337,
          -0.38196846515173966,
          0.297050792678912,
          0.0614737750531798,
          -0.7188599725477899,
          -0.41339764829261316,
          0.1567113704628525,
          0.22300087814560055,
          0.22833849465245748,
          -0.12403824959478726,
          -0.6240348982215744,
          -0.291043610000042,
          -0.8701059728218115,
          -0.45216068978060203,
          -0.47893697410768843,
          -0.3766255993780214,
          -0.08254722168155046,
          -0.0007043200714435538,
          0.2349131731596572,
          -0.4004779979559184,
          -0.4074943926804637,
          0.16001979655721116,
          -0.03892575701185763,
          -0.16713284093619382,
          -0.01658060586335175,
          -0.30769409624804156,
          -0.45617277794844646,
          -0.2494759678742736,
          0.1805946022143734,
          0.19669185465807937,
          -0.06743955447109934,
          -0.4127992749998168,
          0.0983981534454007,
          0.42390074475721273,
          0.20824690903352838,
          0.05765305272857951,
          0.24335858463621618,
          0.21083192999956712,
          0.14154095677800993,
          -0.05063048601015535,
          0.02931460810560771,
          -0.22119992119963916,
          -0.047139337576541374,
          -0.0853157345983914,
          0.1615499061060341,
          -0.07307795881373008,
          0.39755350298694103,
          0.1462851967752583,
          0.12635385634256252,
          0.0031206221105842813,
          -0.18911609025876858,
          0.2587354898405577,
          0.010286049251594875,
          0.35998552972134246,
          0.14528231762327115,
          0.2226170781949972,
          0.0430176599080625,
          -0.29224384845991064,
          -0.37330280408338445,
          0.10395618272682983,
          0.02452123717759702,
          0.05256578238854592,
          0.2114836140984253,
          -0.23993367414658137,
          0.19125924824251328,
          0.09693179337447955
         ],
         "yaxis": "y"
        }
       ],
       "layout": {
        "legend": {
         "tracegroupgap": 0
        },
        "template": {
         "data": {
          "candlestick": [
           {
            "decreasing": {
             "line": {
              "color": "#000033"
             }
            },
            "increasing": {
             "line": {
              "color": "#000032"
             }
            },
            "type": "candlestick"
           }
          ],
          "contour": [
           {
            "colorscale": [
             [
              0,
              "#000011"
             ],
             [
              0.1111111111111111,
              "#000012"
             ],
             [
              0.2222222222222222,
              "#000013"
             ],
             [
              0.3333333333333333,
              "#000014"
             ],
             [
              0.4444444444444444,
              "#000015"
             ],
             [
              0.5555555555555556,
              "#000016"
             ],
             [
              0.6666666666666666,
              "#000017"
             ],
             [
              0.7777777777777778,
              "#000018"
             ],
             [
              0.8888888888888888,
              "#000019"
             ],
             [
              1,
              "#000020"
             ]
            ],
            "type": "contour"
           }
          ],
          "contourcarpet": [
           {
            "colorscale": [
             [
              0,
              "#000011"
             ],
             [
              0.1111111111111111,
              "#000012"
             ],
             [
              0.2222222222222222,
              "#000013"
             ],
             [
              0.3333333333333333,
              "#000014"
             ],
             [
              0.4444444444444444,
              "#000015"
             ],
             [
              0.5555555555555556,
              "#000016"
             ],
             [
              0.6666666666666666,
              "#000017"
             ],
             [
              0.7777777777777778,
              "#000018"
             ],
             [
              0.8888888888888888,
              "#000019"
             ],
             [
              1,
              "#000020"
             ]
            ],
            "type": "contourcarpet"
           }
          ],
          "heatmap": [
           {
            "colorscale": [
             [
              0,
              "#000011"
             ],
             [
              0.1111111111111111,
              "#000012"
             ],
             [
              0.2222222222222222,
              "#000013"
             ],
             [
              0.3333333333333333,
              "#000014"
             ],
             [
              0.4444444444444444,
              "#000015"
             ],
             [
              0.5555555555555556,
              "#000016"
             ],
             [
              0.6666666666666666,
              "#000017"
             ],
             [
              0.7777777777777778,
              "#000018"
             ],
             [
              0.8888888888888888,
              "#000019"
             ],
             [
              1,
              "#000020"
             ]
            ],
            "type": "heatmap"
           }
          ],
          "histogram2d": [
           {
            "colorscale": [
             [
              0,
              "#000011"
             ],
             [
              0.1111111111111111,
              "#000012"
             ],
             [
              0.2222222222222222,
              "#000013"
             ],
             [
              0.3333333333333333,
              "#000014"
             ],
             [
              0.4444444444444444,
              "#000015"
             ],
             [
              0.5555555555555556,
              "#000016"
             ],
             [
              0.6666666666666666,
              "#000017"
             ],
             [
              0.7777777777777778,
              "#000018"
             ],
             [
              0.8888888888888888,
              "#000019"
             ],
             [
              1,
              "#000020"
             ]
            ],
            "type": "histogram2d"
           }
          ],
          "icicle": [
           {
            "textfont": {
             "color": "white"
            },
            "type": "icicle"
           }
          ],
          "sankey": [
           {
            "textfont": {
             "color": "#000036"
            },
            "type": "sankey"
           }
          ],
          "scatter": [
           {
            "marker": {
             "line": {
              "width": 0
             }
            },
            "type": "scatter"
           }
          ],
          "table": [
           {
            "cells": {
             "fill": {
              "color": "#000038"
             },
             "font": {
              "color": "#000037"
             },
             "line": {
              "color": "#000039"
             }
            },
            "header": {
             "fill": {
              "color": "#000040"
             },
             "font": {
              "color": "#000036"
             },
             "line": {
              "color": "#000039"
             }
            },
            "type": "table"
           }
          ],
          "waterfall": [
           {
            "connector": {
             "line": {
              "color": "#000036",
              "width": 2
             }
            },
            "decreasing": {
             "marker": {
              "color": "#000033"
             }
            },
            "increasing": {
             "marker": {
              "color": "#000032"
             }
            },
            "totals": {
             "marker": {
              "color": "#000034"
             }
            },
            "type": "waterfall"
           }
          ]
         },
         "layout": {
          "coloraxis": {
           "colorscale": [
            [
             0,
             "#000011"
            ],
            [
             0.1111111111111111,
             "#000012"
            ],
            [
             0.2222222222222222,
             "#000013"
            ],
            [
             0.3333333333333333,
             "#000014"
            ],
            [
             0.4444444444444444,
             "#000015"
            ],
            [
             0.5555555555555556,
             "#000016"
            ],
            [
             0.6666666666666666,
             "#000017"
            ],
            [
             0.7777777777777778,
             "#000018"
            ],
            [
             0.8888888888888888,
             "#000019"
            ],
            [
             1,
             "#000020"
            ]
           ]
          },
          "colorscale": {
           "diverging": [
            [
             0,
             "#000021"
            ],
            [
             0.1,
             "#000022"
            ],
            [
             0.2,
             "#000023"
            ],
            [
             0.3,
             "#000024"
            ],
            [
             0.4,
             "#000025"
            ],
            [
             0.5,
             "#000026"
            ],
            [
             0.6,
             "#000027"
            ],
            [
             0.7,
             "#000028"
            ],
            [
             0.8,
             "#000029"
            ],
            [
             0.9,
             "#000030"
            ],
            [
             1,
             "#000031"
            ]
           ],
           "sequential": [
            [
             0,
             "#000011"
            ],
            [
             0.1111111111111111,
             "#000012"
            ],
            [
             0.2222222222222222,
             "#000013"
            ],
            [
             0.3333333333333333,
             "#000014"
            ],
            [
             0.4444444444444444,
             "#000015"
            ],
            [
             0.5555555555555556,
             "#000016"
            ],
            [
             0.6666666666666666,
             "#000017"
            ],
            [
             0.7777777777777778,
             "#000018"
            ],
            [
             0.8888888888888888,
             "#000019"
            ],
            [
             1,
             "#000020"
            ]
           ],
           "sequentialminus": [
            [
             0,
             "#000011"
            ],
            [
             0.1111111111111111,
             "#000012"
            ],
            [
             0.2222222222222222,
             "#000013"
            ],
            [
             0.3333333333333333,
             "#000014"
            ],
            [
             0.4444444444444444,
             "#000015"
            ],
            [
             0.5555555555555556,
             "#000016"
            ],
            [
             0.6666666666666666,
             "#000017"
            ],
            [
             0.7777777777777778,
             "#000018"
            ],
            [
             0.8888888888888888,
             "#000019"
            ],
            [
             1,
             "#000020"
            ]
           ]
          },
          "colorway": [
           "#000001",
           "#000002",
           "#000003",
           "#000004",
           "#000005",
           "#000006",
           "#000007",
           "#000008",
           "#000009",
           "#000010"
          ]
         }
        },
        "title": {
         "text": "PCA"
        },
        "xaxis": {
         "anchor": "y",
         "domain": [
          0,
          1
         ],
         "title": {
          "text": "x"
         }
        },
        "yaxis": {
         "anchor": "x",
         "domain": [
          0,
          1
         ],
         "title": {
          "text": "y"
         }
        }
       }
      }
     },
     "metadata": {},
     "output_type": "display_data"
    }
   ],
   "source": [
    "## Lakukan PCA untuk mengurangi jumlah fitur menjadi 2 fitur saja\n",
    "pca = PCA(n_components=2)\n",
    "pca.fit(data2)\n",
    "pca_data = pca.transform(data2)\n",
    "\n",
    "## buat dataframe dari hasil pca\n",
    "pca_df = pd.DataFrame(data=pca_data, columns=['x', 'y'])\n",
    "pca_df.head()\n",
    "\n",
    "## plot pca_df using plotly\n",
    "fig = px.scatter(pca_df, x='x', y='y', title='PCA')\n",
    "fig.show()"
   ]
  },
  {
   "cell_type": "code",
   "execution_count": 17,
   "metadata": {},
   "outputs": [
    {
     "data": {
      "application/vnd.plotly.v1+json": {
       "config": {
        "plotlyServerURL": "https://plot.ly"
       },
       "data": [
        {
         "customdata": [
          [
           "Jean Grae",
           "Threats"
          ],
          [
           "Sa-Roc",
           "Queen's Philosophy"
          ],
          [
           "Black Thought",
           "9th vs. Thought"
          ],
          [
           "Talib Kweli",
           "Get By"
          ],
          [
           "Sa-Roc",
           "We Comin"
          ],
          [
           "Gift Of Gab",
           "Freedom Form Flowing"
          ],
          [
           "Sa-Roc",
           "Hood Supreme"
          ],
          [
           "Sa-Roc",
           "Maximum Frequency"
          ],
          [
           "Talib Kweli",
           "Never Been In Love"
          ],
          [
           "Sa-Roc",
           "Eye of the Phoenix"
          ],
          [
           "Talib Kweli",
           "Ms. Hill"
          ],
          [
           "Sa-Roc",
           "End of the World"
          ],
          [
           "Sa-Roc",
           "NSFW (Not Safe For Weak Rappers)"
          ],
          [
           "Sa-Roc",
           "Legendary"
          ],
          [
           "Sa-Roc",
           "The Moors of Alhambra"
          ],
          [
           "Sa-Roc",
           "Lilith's Psalm"
          ],
          [
           "Sa-Roc",
           "MetaMorpheus"
          ],
          [
           "Sa-Roc",
           "WWII (Word War II)"
          ],
          [
           "MC Breed",
           "Gotta Get Mine"
          ],
          [
           "Vinnie Paz",
           "Battle Hymn"
          ],
          [
           "Apathy",
           "Pay Your Dues"
          ],
          [
           "Dilated Peoples",
           "Kindness For Weakness"
          ],
          [
           "Afu-Ra",
           "Equality"
          ],
          [
           "CunninLynguists",
           "Nothing but Strangeness (feat. Looptroop Rockers & Hilltop Hoods)"
          ],
          [
           "Dag Savage",
           "When It Rains (feat. Aloe Blacc)"
          ],
          [
           "Citizen Cope",
           "Let The Drummer Kick"
          ],
          [
           "Evidence",
           "Late For The Sky feat. Slug & Aesop Rock"
          ],
          [
           "Geto Boys",
           "Mind Playing Tricks on Me"
          ],
          [
           "Sweatshop Union",
           "Oh My"
          ],
          [
           "R.A. The Rugged Man",
           "Definition of a Rap Flow (Albee 3000)"
          ],
          [
           "Jedi Mind Tricks",
           "Suicide"
          ],
          [
           "Immortal Technique",
           "Point of No Return"
          ],
          [
           "CunninLynguists",
           "Guide You Through Shadows (feat. Ra Scion & Substantial)"
          ],
          [
           "Jedi Mind Tricks",
           "Fraudulent Cloth"
          ],
          [
           "PaceWon & Mr. Green",
           "Children Sing"
          ],
          [
           "CunninLynguists",
           "Enemies With Benefits F. Tonedeff"
          ],
          [
           "Immortal Technique",
           "Freedom of Speech"
          ],
          [
           "CunninLynguists",
           "Beyond the Sun (feat. J Live)"
          ],
          [
           "Atmosphere",
           "Pour Me Another"
          ],
          [
           "Jedi Mind Tricks",
           "Razorblade Salvation"
          ],
          [
           "CunninLynguists",
           "Love Ain't (f. Tonedeff) [Deluxe Edition]"
          ],
          [
           "Jedi Mind Tricks",
           "Uncommon Valor: A Vietnam Story"
          ],
          [
           "Sol",
           "2020"
          ],
          [
           "Marcus D",
           "Melancholy Hopeful"
          ],
          [
           "CunninLynguists",
           "Stars Shine Brightest (In The Darkest Of Night) F. Rick Warren"
          ],
          [
           "Gorillaz",
           "El Ma\\xc3\\xb1ana"
          ],
          [
           "The Strokes",
           "Reptilia"
          ],
          [
           "Gorillaz",
           "Dirty Harry"
          ],
          [
           "Uyama Hiroto",
           "Soul Of Freedom feat. Cise Starr"
          ],
          [
           "Awon",
           "Take Time"
          ],
          [
           "SoulChef",
           "When I Close My Eyes (feat. Tunji)"
          ],
          [
           "SoulChef",
           "Say Somethin' (feat. Nieve, Noah King, Adub & Tunji)"
          ],
          [
           "Common Market",
           "Swell"
          ],
          [
           "Idealism",
           "nagashi"
          ],
          [
           "Birocratic",
           "Boys' bop"
          ],
          [
           "DANGERDOOM",
           "Benzi Box (feat. CeeLo Green)"
          ],
          [
           "The Grouch & Eligh",
           "Comin' Up (feat. Mistah F.A.B.)"
          ],
          [
           "The White Stripes",
           "Seven Nation Army"
          ],
          [
           "Gorillaz",
           "Some Kind of Nature (feat. Lou Reed)"
          ],
          [
           "Gorillaz",
           "Clint Eastwood"
          ],
          [
           "MGMT",
           "Time to Pretend"
          ],
          [
           "STRFKR",
           "Rawnald Gregory Erickson the Second"
          ],
          [
           "MF DOOM",
           "Rapp Snitch Knishes feat. Mr. Fantastik"
          ],
          [
           "Gorillaz",
           "November Has Come"
          ],
          [
           "CunninLynguists",
           "Beautiful Girl"
          ],
          [
           "Emancipator",
           "Black Lake"
          ],
          [
           "The Grouch",
           "THE POSSE"
          ],
          [
           "People Under The Stairs",
           "Anotha (BBQ)"
          ],
          [
           "Lyrics Born",
           "Before and After"
          ],
          [
           "Collective Efforts",
           "So Cold"
          ],
          [
           "People Under The Stairs",
           "Pictures On My Wall"
          ],
          [
           "Brother Ali",
           "The Travelers"
          ],
          [
           "Blue Scholars",
           "Motion Movement"
          ],
          [
           "Zion I",
           "Antenna"
          ],
          [
           "Earth, Wind & Fire",
           "Let's Groove"
          ],
          [
           "Marvin Gaye",
           "Ain't No Mountain High Enough"
          ],
          [
           "Bill Withers",
           "Ain't No Sunshine"
          ],
          [
           "The Temptations",
           "Ain't Too Proud To Beg"
          ],
          [
           "Sweatshop Union",
           "Close to Home"
          ],
          [
           "Deltron 3030",
           "Mastermind"
          ],
          [
           "The Dynospectrum",
           "Anything Is Everything"
          ],
          [
           "Kenichiro Nishihara",
           "believe feat. Cise Starr"
          ],
          [
           "Grieves",
           "Sunny Side Of Hell"
          ],
          [
           "Murs",
           "Everything"
          ],
          [
           "Grieves",
           "On The Rocks"
          ],
          [
           "Common Market",
           "Slow Cure"
          ],
          [
           "Collective Efforts",
           "This Far"
          ],
          [
           "Brother Ali",
           "Walking Away"
          ],
          [
           "Atmosphere",
           "The Best Day"
          ],
          [
           "Blue Scholars",
           "Southside Revival"
          ],
          [
           "Sweatshop Union",
           "The Humans' race"
          ],
          [
           "CunninLynguists",
           "Mic Like a Memory [Deluxe Edition] (feat. Kory Calico)"
          ],
          [
           "Emancipator",
           "Soon It Will Be Cold Enough to Build Fires"
          ],
          [
           "Gift Of Gab",
           "Way of the Light"
          ],
          [
           "CunninLynguists",
           "In the City (feat. Zumbi of Zion I)"
          ],
          [
           "Classified",
           "Fall From Paradise"
          ],
          [
           "Living Legends",
           "Purple Kush (feat. Sunspot Jonz)"
          ],
          [
           "Blue Scholars",
           "50 Thousand Deep"
          ],
          [
           "Common Market",
           "Trinity"
          ],
          [
           "Living Legends",
           "Moving at the Speed of Life (feat. Aesop & Slug)"
          ]
         ],
         "hovertemplate": "x=%{x}<br>y=%{y}<br>hover_data_0=%{customdata[0]}<br>hover_data_1=%{customdata[1]}<br>color=%{marker.color}<extra></extra>",
         "legendgroup": "",
         "marker": {
          "color": [
           6,
           1,
           2,
           2,
           2,
           4,
           1,
           2,
           1,
           1,
           2,
           1,
           2,
           2,
           2,
           3,
           2,
           2,
           3,
           2,
           1,
           5,
           2,
           3,
           1,
           6,
           2,
           3,
           3,
           1,
           4,
           2,
           4,
           5,
           4,
           4,
           3,
           6,
           5,
           0,
           1,
           1,
           1,
           6,
           5,
           4,
           0,
           5,
           0,
           0,
           6,
           6,
           3,
           7,
           0,
           3,
           6,
           6,
           6,
           4,
           5,
           7,
           1,
           3,
           2,
           7,
           1,
           1,
           1,
           1,
           3,
           1,
           1,
           6,
           6,
           6,
           6,
           6,
           1,
           6,
           1,
           3,
           1,
           4,
           4,
           1,
           6,
           3,
           3,
           1,
           6,
           0,
           7,
           1,
           6,
           6,
           1,
           4,
           1,
           6
          ],
          "coloraxis": "coloraxis",
          "symbol": "circle"
         },
         "mode": "markers",
         "name": "",
         "orientation": "v",
         "showlegend": false,
         "type": "scatter",
         "x": [
          -0.14054868970044787,
          -0.07249975046313684,
          0.35568449197055235,
          0.44541594190252315,
          0.7502314692429322,
          0.20209466627249878,
          0.273779201115033,
          0.5406632043086803,
          -0.06766345743414937,
          0.07370924854457522,
          0.35912654060877874,
          0.03905379539924342,
          0.5165404198341979,
          0.4411393099126553,
          0.53469117370802,
          -0.27366379206973845,
          0.5132085334469398,
          0.4768273820926929,
          -0.31438692411968105,
          0.3935104391995348,
          0.16661677950521997,
          0.6009640526922733,
          0.299192378921089,
          -0.15612928334514908,
          0.06491237701840663,
          -0.19525723437986914,
          0.7893417031685117,
          -0.3777356827264515,
          -0.6254435301186125,
          0.0806361127013418,
          0.20571878362877666,
          0.2887241053634944,
          -0.03745663585389175,
          0.5224092701931453,
          0.34513462316347315,
          0.2276549299334854,
          -0.2241469694824777,
          -0.25229613947864904,
          0.6195845156166484,
          -0.07164463657433906,
          0.1571264272987904,
          0.2592914211803184,
          -0.10334541839920258,
          -0.07166266764054208,
          0.37527943963504323,
          0.09054901985282754,
          -0.12852040536259118,
          0.536741551196098,
          -0.3551344438736933,
          -0.21267343953086199,
          -0.27221676923267313,
          -0.3540223356537284,
          -0.20595184047728127,
          -1.1065216556106108,
          -0.11982372937075453,
          -0.48940859576618106,
          -0.21139021753242615,
          -0.21299860378856283,
          -0.18508602527095747,
          0.09231510035856266,
          0.34831506732889256,
          -0.6505375506522784,
          0.1863723783512961,
          -0.16074064312261666,
          0.43211683456235245,
          -0.7475428594816019,
          0.06036724376571495,
          0.23934896336578165,
          -0.05122113427225078,
          0.07656649136644561,
          -0.14953413812883948,
          0.005380692235030238,
          0.005505502435596388,
          -0.22685900543540433,
          -0.28196671575276655,
          -0.39615307774184644,
          -0.5333876306464692,
          -0.4157287750809616,
          0.015504281705472689,
          -0.24231880331642186,
          0.04258588773004163,
          -0.2179277886351464,
          -0.007273718569701715,
          0.16361867844650196,
          0.23053988794857688,
          0.061176290372913666,
          -0.26164439134832884,
          -0.4117630742407608,
          -0.4196599077763988,
          0.03827491141626055,
          -0.12783953072273263,
          -0.3121393262492381,
          -1.0507000989576165,
          0.12772515842748305,
          -0.05964256425819342,
          -0.11268685505322645,
          0.11701568701768389,
          -0.04612567793080108,
          0.08766404375562192,
          -0.15492426858776343
         ],
         "xaxis": "x",
         "y": [
          -0.06564774614545132,
          0.3773169116169156,
          0.13314342963725778,
          0.20067678609957496,
          -0.10066755458093407,
          -0.14014476820819763,
          0.4951694819339423,
          0.22869208793153006,
          0.14688487726738814,
          0.2955169605533631,
          0.16545743785548034,
          0.30089515163172,
          -0.0921945342417585,
          0.0351332404239163,
          0.1613653216982936,
          0.32473173360853536,
          -0.06863184346272769,
          0.3601714667806758,
          0.31622340970613017,
          -0.040701602589924724,
          0.0963486605894458,
          -0.3816258453332205,
          0.09838397175683505,
          0.33269878799738295,
          0.24324300165663182,
          0.007289220228773208,
          -0.012622833491874763,
          0.315269992566923,
          0.1959997008872053,
          0.30095559747930467,
          -0.005280097920199955,
          0.17129946049385764,
          -0.17414846847694243,
          -0.8143468916058514,
          -0.20382250549381337,
          -0.38196846515173966,
          0.297050792678912,
          0.0614737750531798,
          -0.7188599725477899,
          -0.41339764829261316,
          0.1567113704628525,
          0.22300087814560055,
          0.22833849465245748,
          -0.12403824959478726,
          -0.6240348982215744,
          -0.291043610000042,
          -0.8701059728218115,
          -0.45216068978060203,
          -0.47893697410768843,
          -0.3766255993780214,
          -0.08254722168155046,
          -0.0007043200714435538,
          0.2349131731596572,
          -0.4004779979559184,
          -0.4074943926804637,
          0.16001979655721116,
          -0.03892575701185763,
          -0.16713284093619382,
          -0.01658060586335175,
          -0.30769409624804156,
          -0.45617277794844646,
          -0.2494759678742736,
          0.1805946022143734,
          0.19669185465807937,
          -0.06743955447109934,
          -0.4127992749998168,
          0.0983981534454007,
          0.42390074475721273,
          0.20824690903352838,
          0.05765305272857951,
          0.24335858463621618,
          0.21083192999956712,
          0.14154095677800993,
          -0.05063048601015535,
          0.02931460810560771,
          -0.22119992119963916,
          -0.047139337576541374,
          -0.0853157345983914,
          0.1615499061060341,
          -0.07307795881373008,
          0.39755350298694103,
          0.1462851967752583,
          0.12635385634256252,
          0.0031206221105842813,
          -0.18911609025876858,
          0.2587354898405577,
          0.010286049251594875,
          0.35998552972134246,
          0.14528231762327115,
          0.2226170781949972,
          0.0430176599080625,
          -0.29224384845991064,
          -0.37330280408338445,
          0.10395618272682983,
          0.02452123717759702,
          0.05256578238854592,
          0.2114836140984253,
          -0.23993367414658137,
          0.19125924824251328,
          0.09693179337447955
         ],
         "yaxis": "y"
        }
       ],
       "layout": {
        "coloraxis": {
         "colorbar": {
          "title": {
           "text": "color"
          }
         },
         "colorscale": [
          [
           0,
           "rgb(150,0,90)"
          ],
          [
           0.125,
           "rgb(0,0,200)"
          ],
          [
           0.25,
           "rgb(0,25,255)"
          ],
          [
           0.375,
           "rgb(0,152,255)"
          ],
          [
           0.5,
           "rgb(44,255,150)"
          ],
          [
           0.625,
           "rgb(151,255,0)"
          ],
          [
           0.75,
           "rgb(255,234,0)"
          ],
          [
           0.875,
           "rgb(255,111,0)"
          ],
          [
           1,
           "rgb(255,0,0)"
          ]
         ]
        },
        "legend": {
         "tracegroupgap": 0
        },
        "margin": {
         "t": 60
        },
        "template": {
         "data": {
          "candlestick": [
           {
            "decreasing": {
             "line": {
              "color": "#000033"
             }
            },
            "increasing": {
             "line": {
              "color": "#000032"
             }
            },
            "type": "candlestick"
           }
          ],
          "contour": [
           {
            "colorscale": [
             [
              0,
              "#000011"
             ],
             [
              0.1111111111111111,
              "#000012"
             ],
             [
              0.2222222222222222,
              "#000013"
             ],
             [
              0.3333333333333333,
              "#000014"
             ],
             [
              0.4444444444444444,
              "#000015"
             ],
             [
              0.5555555555555556,
              "#000016"
             ],
             [
              0.6666666666666666,
              "#000017"
             ],
             [
              0.7777777777777778,
              "#000018"
             ],
             [
              0.8888888888888888,
              "#000019"
             ],
             [
              1,
              "#000020"
             ]
            ],
            "type": "contour"
           }
          ],
          "contourcarpet": [
           {
            "colorscale": [
             [
              0,
              "#000011"
             ],
             [
              0.1111111111111111,
              "#000012"
             ],
             [
              0.2222222222222222,
              "#000013"
             ],
             [
              0.3333333333333333,
              "#000014"
             ],
             [
              0.4444444444444444,
              "#000015"
             ],
             [
              0.5555555555555556,
              "#000016"
             ],
             [
              0.6666666666666666,
              "#000017"
             ],
             [
              0.7777777777777778,
              "#000018"
             ],
             [
              0.8888888888888888,
              "#000019"
             ],
             [
              1,
              "#000020"
             ]
            ],
            "type": "contourcarpet"
           }
          ],
          "heatmap": [
           {
            "colorscale": [
             [
              0,
              "#000011"
             ],
             [
              0.1111111111111111,
              "#000012"
             ],
             [
              0.2222222222222222,
              "#000013"
             ],
             [
              0.3333333333333333,
              "#000014"
             ],
             [
              0.4444444444444444,
              "#000015"
             ],
             [
              0.5555555555555556,
              "#000016"
             ],
             [
              0.6666666666666666,
              "#000017"
             ],
             [
              0.7777777777777778,
              "#000018"
             ],
             [
              0.8888888888888888,
              "#000019"
             ],
             [
              1,
              "#000020"
             ]
            ],
            "type": "heatmap"
           }
          ],
          "histogram2d": [
           {
            "colorscale": [
             [
              0,
              "#000011"
             ],
             [
              0.1111111111111111,
              "#000012"
             ],
             [
              0.2222222222222222,
              "#000013"
             ],
             [
              0.3333333333333333,
              "#000014"
             ],
             [
              0.4444444444444444,
              "#000015"
             ],
             [
              0.5555555555555556,
              "#000016"
             ],
             [
              0.6666666666666666,
              "#000017"
             ],
             [
              0.7777777777777778,
              "#000018"
             ],
             [
              0.8888888888888888,
              "#000019"
             ],
             [
              1,
              "#000020"
             ]
            ],
            "type": "histogram2d"
           }
          ],
          "icicle": [
           {
            "textfont": {
             "color": "white"
            },
            "type": "icicle"
           }
          ],
          "sankey": [
           {
            "textfont": {
             "color": "#000036"
            },
            "type": "sankey"
           }
          ],
          "scatter": [
           {
            "marker": {
             "line": {
              "width": 0
             }
            },
            "type": "scatter"
           }
          ],
          "table": [
           {
            "cells": {
             "fill": {
              "color": "#000038"
             },
             "font": {
              "color": "#000037"
             },
             "line": {
              "color": "#000039"
             }
            },
            "header": {
             "fill": {
              "color": "#000040"
             },
             "font": {
              "color": "#000036"
             },
             "line": {
              "color": "#000039"
             }
            },
            "type": "table"
           }
          ],
          "waterfall": [
           {
            "connector": {
             "line": {
              "color": "#000036",
              "width": 2
             }
            },
            "decreasing": {
             "marker": {
              "color": "#000033"
             }
            },
            "increasing": {
             "marker": {
              "color": "#000032"
             }
            },
            "totals": {
             "marker": {
              "color": "#000034"
             }
            },
            "type": "waterfall"
           }
          ]
         },
         "layout": {
          "coloraxis": {
           "colorscale": [
            [
             0,
             "#000011"
            ],
            [
             0.1111111111111111,
             "#000012"
            ],
            [
             0.2222222222222222,
             "#000013"
            ],
            [
             0.3333333333333333,
             "#000014"
            ],
            [
             0.4444444444444444,
             "#000015"
            ],
            [
             0.5555555555555556,
             "#000016"
            ],
            [
             0.6666666666666666,
             "#000017"
            ],
            [
             0.7777777777777778,
             "#000018"
            ],
            [
             0.8888888888888888,
             "#000019"
            ],
            [
             1,
             "#000020"
            ]
           ]
          },
          "colorscale": {
           "diverging": [
            [
             0,
             "#000021"
            ],
            [
             0.1,
             "#000022"
            ],
            [
             0.2,
             "#000023"
            ],
            [
             0.3,
             "#000024"
            ],
            [
             0.4,
             "#000025"
            ],
            [
             0.5,
             "#000026"
            ],
            [
             0.6,
             "#000027"
            ],
            [
             0.7,
             "#000028"
            ],
            [
             0.8,
             "#000029"
            ],
            [
             0.9,
             "#000030"
            ],
            [
             1,
             "#000031"
            ]
           ],
           "sequential": [
            [
             0,
             "#000011"
            ],
            [
             0.1111111111111111,
             "#000012"
            ],
            [
             0.2222222222222222,
             "#000013"
            ],
            [
             0.3333333333333333,
             "#000014"
            ],
            [
             0.4444444444444444,
             "#000015"
            ],
            [
             0.5555555555555556,
             "#000016"
            ],
            [
             0.6666666666666666,
             "#000017"
            ],
            [
             0.7777777777777778,
             "#000018"
            ],
            [
             0.8888888888888888,
             "#000019"
            ],
            [
             1,
             "#000020"
            ]
           ],
           "sequentialminus": [
            [
             0,
             "#000011"
            ],
            [
             0.1111111111111111,
             "#000012"
            ],
            [
             0.2222222222222222,
             "#000013"
            ],
            [
             0.3333333333333333,
             "#000014"
            ],
            [
             0.4444444444444444,
             "#000015"
            ],
            [
             0.5555555555555556,
             "#000016"
            ],
            [
             0.6666666666666666,
             "#000017"
            ],
            [
             0.7777777777777778,
             "#000018"
            ],
            [
             0.8888888888888888,
             "#000019"
            ],
            [
             1,
             "#000020"
            ]
           ]
          },
          "colorway": [
           "#000001",
           "#000002",
           "#000003",
           "#000004",
           "#000005",
           "#000006",
           "#000007",
           "#000008",
           "#000009",
           "#000010"
          ]
         }
        },
        "xaxis": {
         "anchor": "y",
         "domain": [
          0,
          1
         ],
         "title": {
          "text": "x"
         }
        },
        "yaxis": {
         "anchor": "x",
         "domain": [
          0,
          1
         ],
         "title": {
          "text": "y"
         }
        }
       }
      }
     },
     "metadata": {},
     "output_type": "display_data"
    }
   ],
   "source": [
    "## rubah bentuk data ke list \n",
    "data2 = list(zip(pca_df['x'], pca_df['y']))\n",
    "\n",
    "## fit kmeans model\n",
    "kmeans = KMeans(n_init=10, max_iter=1000).fit(data2)\n",
    "\n",
    "## make scatter plot using plotly\n",
    "fig = px.scatter(pca_df, x='x', y='y', color=kmeans.labels_, color_continuous_scale='rainbow', hover_data=[data.artist, data.name])\n",
    "fig.show()"
   ]
  }
 ],
 "metadata": {
  "kernelspec": {
   "display_name": "Python 3",
   "language": "python",
   "name": "python3"
  },
  "language_info": {
   "codemirror_mode": {
    "name": "ipython",
    "version": 3
   },
   "file_extension": ".py",
   "mimetype": "text/x-python",
   "name": "python",
   "nbconvert_exporter": "python",
   "pygments_lexer": "ipython3",
   "version": "3.11.0"
  }
 },
 "nbformat": 4,
 "nbformat_minor": 2
}
